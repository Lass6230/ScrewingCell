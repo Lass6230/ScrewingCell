{
 "cells": [
  {
   "cell_type": "code",
   "execution_count": 1,
   "id": "ab658e05",
   "metadata": {},
   "outputs": [],
   "source": [
    "import keras\n",
    "from keras.models import Sequential\n",
    "from keras.layers import Conv1D, MaxPooling1D\n",
    "from keras.layers import Dense, Dropout, Flatten\n",
    "from sklearn.model_selection import train_test_split\n",
    "from sklearn.preprocessing import LabelEncoder"
   ]
  },
  {
   "cell_type": "code",
   "execution_count": 1,
   "id": "5e7e649b",
   "metadata": {},
   "outputs": [],
   "source": [
    "import numpy as np\n",
    "\n",
    "with np.load(r\"C:\\Users\\GHB\\Desktop\\SCREW PROJECT\\Machine Learning\\Deep learning\\Extrinsic\\padded_audio.npz\") as data:\n",
    "    X = data['x']\n",
    "    y = data['y']"
   ]
  },
  {
   "cell_type": "code",
   "execution_count": 8,
   "id": "dbec395c",
   "metadata": {},
   "outputs": [],
   "source": [
    "# Convert audio data into numpy array\n",
    "padded_audio_np = np.array(X)\n"
   ]
  },
  {
   "cell_type": "code",
   "execution_count": 9,
   "id": "80a8a1df",
   "metadata": {},
   "outputs": [],
   "source": [
    "# Reshape for convolution\n",
    "X = np.expand_dims(padded_audio_np, axis=2)\n"
   ]
  },
  {
   "cell_type": "code",
   "execution_count": 10,
   "id": "7fd7f0fe",
   "metadata": {},
   "outputs": [],
   "source": [
    "# Encode labels into integers\n",
    "encoder = LabelEncoder()\n",
    "y = encoder.fit_transform(y)"
   ]
  },
  {
   "cell_type": "code",
   "execution_count": 11,
   "id": "a90f506a",
   "metadata": {},
   "outputs": [],
   "source": [
    "# Split data into training and test sets\n",
    "X_train, X_test, y_train, y_test = train_test_split(X, y, test_size=0.3, random_state=42)"
   ]
  },
  {
   "cell_type": "code",
   "execution_count": null,
   "id": "d9d3a543",
   "metadata": {},
   "outputs": [],
   "source": [
    "# Define the model\n",
    "model = Sequential()\n",
    "model.add(Conv1D(64, kernel_size=3, activation='relu', input_shape=(X.shape[1], 1)))\n",
    "model.add(MaxPooling1D(pool_size=2))\n",
    "model.add(Conv1D(128, kernel_size=3, activation='relu'))\n",
    "model.add(MaxPooling1D(pool_size=2))\n",
    "model.add(Dropout(0.25))\n",
    "model.add(Flatten())\n",
    "model.add(Dense(64, activation='relu'))\n",
    "model.add(Dropout(0.5))\n",
    "model.add(Dense(np.unique(y).size, activation='softmax'))  # Number of classes is number of unique labels\n",
    "\n",
    "# Compile the model\n",
    "model.compile(loss=keras.losses.sparse_categorical_crossentropy, \n",
    "              optimizer=keras.optimizers.Adam(), \n",
    "              metrics=['accuracy'])\n",
    "\n",
    "# Train the model\n",
    "model.fit(X_train, y_train, batch_size=64, epochs=10, verbose=1, validation_data=(X_test, y_test))"
   ]
  },
  {
   "cell_type": "code",
   "execution_count": null,
   "id": "52eddb05",
   "metadata": {},
   "outputs": [],
   "source": []
  }
 ],
 "metadata": {
  "kernelspec": {
   "display_name": "dl_env",
   "language": "python",
   "name": "dl_env"
  },
  "language_info": {
   "codemirror_mode": {
    "name": "ipython",
    "version": 3
   },
   "file_extension": ".py",
   "mimetype": "text/x-python",
   "name": "python",
   "nbconvert_exporter": "python",
   "pygments_lexer": "ipython3",
   "version": "3.9.16"
  }
 },
 "nbformat": 4,
 "nbformat_minor": 5
}
