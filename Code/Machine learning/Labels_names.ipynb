{
 "cells": [
  {
   "cell_type": "code",
   "execution_count": 8,
   "id": "2992dc9e",
   "metadata": {},
   "outputs": [
    {
     "name": "stdout",
     "output_type": "stream",
     "text": [
      "Processing directory: C:\\Users\\GHB\\Desktop\\SCREW PROJECT\\Machine Learning\\Final data\n",
      "Processing directory: C:\\Users\\GHB\\Desktop\\SCREW PROJECT\\Machine Learning\\Final data\\Extrinsic data\n",
      "Processing directory: C:\\Users\\GHB\\Desktop\\SCREW PROJECT\\Machine Learning\\Final data\\Extrinsic data\\N\n",
      "Processing directory: C:\\Users\\GHB\\Desktop\\SCREW PROJECT\\Machine Learning\\Final data\\Extrinsic data\\NS\n",
      "Processing directory: C:\\Users\\GHB\\Desktop\\SCREW PROJECT\\Machine Learning\\Final data\\Extrinsic data\\OT\n",
      "Processing directory: C:\\Users\\GHB\\Desktop\\SCREW PROJECT\\Machine Learning\\Final data\\Extrinsic data\\P\n",
      "Processing directory: C:\\Users\\GHB\\Desktop\\SCREW PROJECT\\Machine Learning\\Final data\\Extrinsic data\\UT\n",
      "Processing directory: C:\\Users\\GHB\\Desktop\\SCREW PROJECT\\Machine Learning\\Final data\\Intrinsic data\n",
      "Processing directory: C:\\Users\\GHB\\Desktop\\SCREW PROJECT\\Machine Learning\\Final data\\Intrinsic data\\KXML\n",
      "Processing directory: C:\\Users\\GHB\\Desktop\\SCREW PROJECT\\Machine Learning\\Final data\\Intrinsic data\\N\n",
      "Processing directory: C:\\Users\\GHB\\Desktop\\SCREW PROJECT\\Machine Learning\\Final data\\Intrinsic data\\NS\n",
      "Processing directory: C:\\Users\\GHB\\Desktop\\SCREW PROJECT\\Machine Learning\\Final data\\Intrinsic data\\OT\n",
      "Processing directory: C:\\Users\\GHB\\Desktop\\SCREW PROJECT\\Machine Learning\\Final data\\Intrinsic data\\P\n",
      "Processing directory: C:\\Users\\GHB\\Desktop\\SCREW PROJECT\\Machine Learning\\Final data\\Intrinsic data\\UT\n",
      "Processing directory: C:\\Users\\GHB\\Desktop\\SCREW PROJECT\\Machine Learning\\Final data\\Task data\n",
      "Processing directory: C:\\Users\\GHB\\Desktop\\SCREW PROJECT\\Machine Learning\\Final data\\Task data\\N\n",
      "Processing directory: C:\\Users\\GHB\\Desktop\\SCREW PROJECT\\Machine Learning\\Final data\\Task data\\NS\n",
      "Processing directory: C:\\Users\\GHB\\Desktop\\SCREW PROJECT\\Machine Learning\\Final data\\Task data\\OT\n",
      "Processing directory: C:\\Users\\GHB\\Desktop\\SCREW PROJECT\\Machine Learning\\Final data\\Task data\\P\n",
      "Processing directory: C:\\Users\\GHB\\Desktop\\SCREW PROJECT\\Machine Learning\\Final data\\Task data\\UT\n",
      "CSV file created: C:\\Users\\GHB\\Desktop\\SCREW PROJECT\\Machine Learning\\Data\\Labels_names.csv\n"
     ]
    }
   ],
   "source": [
    "import os\n",
    "import csv\n",
    "\n",
    "# Define the starting directory\n",
    "dataset_task = r\"C:\\Users\\GHB\\Desktop\\SCREW PROJECT\\Machine Learning\\Final data\"\n",
    "\n",
    "# Define the output CSV file\n",
    "output_csv = r\"C:\\Users\\GHB\\Desktop\\SCREW PROJECT\\Machine Learning\\Data\\Labels_names.csv\"\n",
    "\n",
    "# Initialize the list to store folder and file names\n",
    "folder_file_list = []\n",
    "\n",
    "# Traverse through the directories and their subfolders using os.walk()\n",
    "for folder_name, _, file_names in os.walk(dataset_task):\n",
    "    print(f\"Processing directory: {folder_name}\")\n",
    "    for file_name in file_names:\n",
    "        # Remove the file extension\n",
    "        file_name_no_ext = os.path.splitext(file_name)[0]\n",
    "        # Get the immediate parent folder name\n",
    "        parent_folder_name = os.path.basename(folder_name)\n",
    "        # Append the file name without extension and parent folder name to the list\n",
    "        folder_file_list.append((file_name_no_ext, parent_folder_name))\n",
    "\n",
    "# Write the folder and file names to the CSV file\n",
    "with open(output_csv, 'w', newline='') as csvfile:\n",
    "    csv_writer = csv.writer(csvfile)\n",
    "    # Write the header row\n",
    "    csv_writer.writerow(['File Name', 'Label'])\n",
    "    # Write the folder and file names\n",
    "    for file_name, folder_name in folder_file_list:\n",
    "        csv_writer.writerow([file_name, folder_name])\n",
    "\n",
    "print(f\"CSV file created: {output_csv}\")\n"
   ]
  },
  {
   "cell_type": "code",
   "execution_count": 13,
   "id": "cba7b3bb",
   "metadata": {},
   "outputs": [
    {
     "name": "stdout",
     "output_type": "stream",
     "text": [
      "           File Name Label\n",
      "2682  id030520235006     N\n",
      "2683  id030520235007     N\n",
      "2684  id030520236000     N\n",
      "2685  id030520236002     N\n",
      "2686  id030520236003     N\n",
      "...              ...   ...\n",
      "4018  id280420232069    UT\n",
      "4019  id280420232080    UT\n",
      "4020  id280420233013    UT\n",
      "4021  id280420233045    UT\n",
      "4022  id280420233069    UT\n",
      "\n",
      "[1341 rows x 2 columns]\n"
     ]
    }
   ],
   "source": [
    "# Fixing labels\n",
    "import pandas as pd\n",
    "labels = pd.read_csv(r\"C:\\Users\\GHB\\Desktop\\SCREW PROJECT\\Machine Learning\\Data\\Labels_names.csv\")\n",
    "\n",
    "labels = labels[labels['File Name'].str.startswith('t')]\n",
    "labels['File Name'] = 'id_' + labels['File Name']\n",
    "\n",
    "# Replace \"idt\" with \"id\" in the column\n",
    "labels['File Name'] = labels['File Name'].str.replace('id_t', 'id', regex=True)\n",
    "\n",
    "print(labels)\n",
    "\n"
   ]
  },
  {
   "cell_type": "code",
   "execution_count": 14,
   "id": "e4b3de04",
   "metadata": {},
   "outputs": [],
   "source": [
    "# Assume df is your DataFrame\n",
    "labels.to_csv(r\"C:\\Users\\GHB\\Desktop\\SCREW PROJECT\\Machine Learning\\Data\\Labels_names.csv\", index=False)\n"
   ]
  },
  {
   "cell_type": "code",
   "execution_count": null,
   "id": "e5c7ef18",
   "metadata": {},
   "outputs": [],
   "source": []
  }
 ],
 "metadata": {
  "kernelspec": {
   "display_name": "Python 3 (ipykernel)",
   "language": "python",
   "name": "python3"
  },
  "language_info": {
   "codemirror_mode": {
    "name": "ipython",
    "version": 3
   },
   "file_extension": ".py",
   "mimetype": "text/x-python",
   "name": "python",
   "nbconvert_exporter": "python",
   "pygments_lexer": "ipython3",
   "version": "3.9.7"
  }
 },
 "nbformat": 4,
 "nbformat_minor": 5
}
