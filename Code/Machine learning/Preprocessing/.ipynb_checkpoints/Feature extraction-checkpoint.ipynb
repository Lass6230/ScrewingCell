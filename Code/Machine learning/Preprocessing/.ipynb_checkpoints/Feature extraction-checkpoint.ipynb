{
 "cells": [
  {
   "cell_type": "code",
   "execution_count": 1,
   "id": "e8289663",
   "metadata": {},
   "outputs": [
    {
     "name": "stdout",
     "output_type": "stream",
     "text": [
      "Collecting tsfresh\n",
      "  Downloading tsfresh-0.20.0-py2.py3-none-any.whl (98 kB)\n",
      "Collecting statsmodels>=0.13\n",
      "  Downloading statsmodels-0.14.0-cp39-cp39-win_amd64.whl (9.4 MB)\n",
      "Requirement already satisfied: dask[dataframe]>=2.9.0 in g:\\programi\\anaconda3\\lib\\site-packages (from tsfresh) (2021.10.0)\n",
      "Requirement already satisfied: distributed>=2.11.0 in g:\\programi\\anaconda3\\lib\\site-packages (from tsfresh) (2021.10.0)\n",
      "Collecting stumpy>=1.7.2\n",
      "  Downloading stumpy-1.11.1-py3-none-any.whl (136 kB)\n",
      "Requirement already satisfied: scipy>=1.2.0 in g:\\programi\\anaconda3\\lib\\site-packages (from tsfresh) (1.10.1)\n",
      "Requirement already satisfied: patsy>=0.4.1 in g:\\programi\\anaconda3\\lib\\site-packages (from tsfresh) (0.5.2)\n",
      "Requirement already satisfied: numpy>=1.15.1 in g:\\programi\\anaconda3\\lib\\site-packages (from tsfresh) (1.20.3)\n",
      "Requirement already satisfied: pandas>=0.25.0 in g:\\programi\\anaconda3\\lib\\site-packages (from tsfresh) (1.3.4)\n",
      "Requirement already satisfied: requests>=2.9.1 in g:\\programi\\anaconda3\\lib\\site-packages (from tsfresh) (2.26.0)\n",
      "Requirement already satisfied: tqdm>=4.10.0 in g:\\programi\\anaconda3\\lib\\site-packages (from tsfresh) (4.62.3)\n",
      "Requirement already satisfied: cloudpickle in g:\\programi\\anaconda3\\lib\\site-packages (from tsfresh) (2.0.0)\n",
      "Requirement already satisfied: scikit-learn>=0.22.0 in g:\\programi\\anaconda3\\lib\\site-packages (from tsfresh) (0.24.2)\n",
      "Requirement already satisfied: fsspec>=0.6.0 in g:\\programi\\anaconda3\\lib\\site-packages (from dask[dataframe]>=2.9.0->tsfresh) (2021.10.1)\n",
      "Requirement already satisfied: packaging>=20.0 in g:\\programi\\anaconda3\\lib\\site-packages (from dask[dataframe]>=2.9.0->tsfresh) (21.0)\n",
      "Requirement already satisfied: partd>=0.3.10 in g:\\programi\\anaconda3\\lib\\site-packages (from dask[dataframe]>=2.9.0->tsfresh) (1.2.0)\n",
      "Requirement already satisfied: pyyaml in g:\\programi\\anaconda3\\lib\\site-packages (from dask[dataframe]>=2.9.0->tsfresh) (6.0)\n",
      "Requirement already satisfied: toolz>=0.8.2 in g:\\programi\\anaconda3\\lib\\site-packages (from dask[dataframe]>=2.9.0->tsfresh) (0.11.1)\n",
      "Requirement already satisfied: tblib>=1.6.0 in g:\\programi\\anaconda3\\lib\\site-packages (from distributed>=2.11.0->tsfresh) (1.7.0)\n",
      "Requirement already satisfied: setuptools in g:\\programi\\anaconda3\\lib\\site-packages (from distributed>=2.11.0->tsfresh) (58.0.4)\n",
      "Requirement already satisfied: click>=6.6 in g:\\programi\\anaconda3\\lib\\site-packages (from distributed>=2.11.0->tsfresh) (8.0.3)\n",
      "Requirement already satisfied: zict>=0.1.3 in g:\\programi\\anaconda3\\lib\\site-packages (from distributed>=2.11.0->tsfresh) (2.0.0)\n",
      "Requirement already satisfied: psutil>=5.0 in g:\\programi\\anaconda3\\lib\\site-packages (from distributed>=2.11.0->tsfresh) (5.8.0)\n",
      "Requirement already satisfied: sortedcontainers!=2.0.0,!=2.0.1 in g:\\programi\\anaconda3\\lib\\site-packages (from distributed>=2.11.0->tsfresh) (2.4.0)\n",
      "Requirement already satisfied: jinja2 in g:\\programi\\anaconda3\\lib\\site-packages (from distributed>=2.11.0->tsfresh) (2.11.3)\n",
      "Requirement already satisfied: tornado>=6.0.3 in g:\\programi\\anaconda3\\lib\\site-packages (from distributed>=2.11.0->tsfresh) (6.1)\n",
      "Requirement already satisfied: msgpack>=0.6.0 in g:\\programi\\anaconda3\\lib\\site-packages (from distributed>=2.11.0->tsfresh) (1.0.2)\n",
      "Requirement already satisfied: colorama in g:\\programi\\anaconda3\\lib\\site-packages (from click>=6.6->distributed>=2.11.0->tsfresh) (0.4.4)\n",
      "Requirement already satisfied: pyparsing>=2.0.2 in g:\\programi\\anaconda3\\lib\\site-packages (from packaging>=20.0->dask[dataframe]>=2.9.0->tsfresh) (3.0.4)\n",
      "Requirement already satisfied: pytz>=2017.3 in g:\\programi\\anaconda3\\lib\\site-packages (from pandas>=0.25.0->tsfresh) (2021.3)\n",
      "Requirement already satisfied: python-dateutil>=2.7.3 in g:\\programi\\anaconda3\\lib\\site-packages (from pandas>=0.25.0->tsfresh) (2.8.2)\n",
      "Requirement already satisfied: locket in g:\\programi\\anaconda3\\lib\\site-packages\\locket-0.2.1-py3.9.egg (from partd>=0.3.10->dask[dataframe]>=2.9.0->tsfresh) (0.2.1)\n",
      "Requirement already satisfied: six in g:\\programi\\anaconda3\\lib\\site-packages (from patsy>=0.4.1->tsfresh) (1.16.0)\n",
      "Requirement already satisfied: charset-normalizer~=2.0.0 in g:\\programi\\anaconda3\\lib\\site-packages (from requests>=2.9.1->tsfresh) (2.0.4)\n",
      "Requirement already satisfied: urllib3<1.27,>=1.21.1 in g:\\programi\\anaconda3\\lib\\site-packages (from requests>=2.9.1->tsfresh) (1.26.7)\n",
      "Requirement already satisfied: certifi>=2017.4.17 in g:\\programi\\anaconda3\\lib\\site-packages (from requests>=2.9.1->tsfresh) (2021.10.8)\n",
      "Requirement already satisfied: idna<4,>=2.5 in g:\\programi\\anaconda3\\lib\\site-packages (from requests>=2.9.1->tsfresh) (3.2)\n",
      "Requirement already satisfied: threadpoolctl>=2.0.0 in g:\\programi\\anaconda3\\lib\\site-packages (from scikit-learn>=0.22.0->tsfresh) (2.2.0)\n",
      "Requirement already satisfied: joblib>=0.11 in g:\\programi\\anaconda3\\lib\\site-packages (from scikit-learn>=0.22.0->tsfresh) (1.1.0)\n",
      "Collecting packaging>=20.0\n",
      "  Downloading packaging-23.1-py3-none-any.whl (48 kB)\n",
      "Requirement already satisfied: numba>=0.54 in g:\\programi\\anaconda3\\lib\\site-packages (from stumpy>=1.7.2->tsfresh) (0.54.1)\n",
      "Requirement already satisfied: llvmlite<0.38,>=0.37.0rc1 in g:\\programi\\anaconda3\\lib\\site-packages (from numba>=0.54->stumpy>=1.7.2->tsfresh) (0.37.0)\n",
      "Requirement already satisfied: heapdict in g:\\programi\\anaconda3\\lib\\site-packages (from zict>=0.1.3->distributed>=2.11.0->tsfresh) (1.0.1)\n",
      "Requirement already satisfied: MarkupSafe>=0.23 in g:\\programi\\anaconda3\\lib\\site-packages (from jinja2->distributed>=2.11.0->tsfresh) (1.1.1)\n",
      "Installing collected packages: packaging, stumpy, statsmodels, tsfresh\n",
      "  Attempting uninstall: packaging\n",
      "    Found existing installation: packaging 21.0\n",
      "    Uninstalling packaging-21.0:\n",
      "      Successfully uninstalled packaging-21.0\n",
      "  Attempting uninstall: statsmodels\n",
      "    Found existing installation: statsmodels 0.12.2\n",
      "    Uninstalling statsmodels-0.12.2:\n",
      "      Successfully uninstalled statsmodels-0.12.2\n",
      "Successfully installed packaging-23.1 statsmodels-0.14.0 stumpy-1.11.1 tsfresh-0.20.0\n"
     ]
    },
    {
     "name": "stderr",
     "output_type": "stream",
     "text": [
      "ERROR: pip's dependency resolver does not currently take into account all the packages that are installed. This behaviour is the source of the following dependency conflicts.\n",
      "tensorflow-intel 2.12.0 requires numpy<1.24,>=1.22, but you have numpy 1.20.3 which is incompatible.\n"
     ]
    }
   ],
   "source": [
    "!pip install tsfresh"
   ]
  },
  {
   "cell_type": "code",
   "execution_count": 5,
   "id": "ca6655f8",
   "metadata": {},
   "outputs": [
    {
     "name": "stdout",
     "output_type": "stream",
     "text": [
      "Requirement already satisfied: numpy in g:\\programi\\anaconda3\\lib\\site-packages (1.24.3)\n"
     ]
    }
   ],
   "source": [
    "!pip install --upgrade numpy"
   ]
  },
  {
   "cell_type": "code",
   "execution_count": 6,
   "id": "25df95a8",
   "metadata": {},
   "outputs": [],
   "source": [
    "import os\n",
    "import pandas as pd\n",
    "import numpy as np\n",
    "from tsfresh import extract_features\n",
    "from tsfresh.feature_extraction import MinimalFCParameters, extract_features"
   ]
  },
  {
   "cell_type": "code",
   "execution_count": 7,
   "id": "2bf79790",
   "metadata": {},
   "outputs": [],
   "source": [
    "# Read the DataFrame from the HDF5 file\n",
    "df = pd.read_hdf(r\"C:\\Users\\GHB\\Desktop\\SCREW PROJECT\\Machine Learning\\Test.h5\", key='test_dataframe')"
   ]
  },
  {
   "cell_type": "code",
   "execution_count": 8,
   "id": "2b2d9f38",
   "metadata": {},
   "outputs": [
    {
     "name": "stdout",
     "output_type": "stream",
     "text": [
      "              Source  Time (ms)          Type     Value\n",
      "0      i030520235006      0.000  Nset (1/min)  0.000000\n",
      "1      i030520235006      0.000   Angle (deg)  0.000000\n",
      "2      i030520235006      0.000    Depth (mm)  0.119141\n",
      "3      i030520235007      0.000  Nset (1/min)  0.000000\n",
      "4      i030520234001      0.000    Depth (mm)  0.121094\n",
      "...              ...        ...           ...       ...\n",
      "59102  t030520235006   2098.991  TCP_rx (rad)  1.221000\n",
      "59103  t030520235006   2098.991    TCP_z (mm)  1.500000\n",
      "59104  t030520235006   2098.991  TCP_rz (rad) -1.209000\n",
      "59105  t030520235006   2098.991    TCP_y (mm)  1.000000\n",
      "59106  t030520235006   2098.991  TCP_ry (rad)  1.162000\n",
      "\n",
      "[59107 rows x 4 columns]\n"
     ]
    }
   ],
   "source": [
    "print(df)"
   ]
  },
  {
   "cell_type": "code",
   "execution_count": null,
   "id": "a843a399",
   "metadata": {},
   "outputs": [
    {
     "name": "stderr",
     "output_type": "stream",
     "text": [
      "\r",
      "Feature Extraction:   0%|                                                                       | 0/16 [00:00<?, ?it/s]"
     ]
    }
   ],
   "source": [
    "# Rename columns to meet tsfresh requirements\n",
    "df = df.rename(columns={'Source': 'id', 'Time (ms)': 'time', 'Type': 'kind', 'Value': 'value'})\n",
    "\n",
    "# Define feature extraction settings\n",
    "settings = MinimalFCParameters()  # or EfficientFCParameters()\n",
    "\n",
    "# Extract features\n",
    "extracted_features = extract_features(df, column_id=\"id\", column_kind=\"kind\", column_sort=\"time\", column_value=\"value\", default_fc_parameters=MinimalFCParameters())"
   ]
  },
  {
   "cell_type": "code",
   "execution_count": null,
   "id": "311dc9a9",
   "metadata": {},
   "outputs": [],
   "source": []
  }
 ],
 "metadata": {
  "kernelspec": {
   "display_name": "Python 3 (ipykernel)",
   "language": "python",
   "name": "python3"
  },
  "language_info": {
   "codemirror_mode": {
    "name": "ipython",
    "version": 3
   },
   "file_extension": ".py",
   "mimetype": "text/x-python",
   "name": "python",
   "nbconvert_exporter": "python",
   "pygments_lexer": "ipython3",
   "version": "3.9.7"
  }
 },
 "nbformat": 4,
 "nbformat_minor": 5
}
