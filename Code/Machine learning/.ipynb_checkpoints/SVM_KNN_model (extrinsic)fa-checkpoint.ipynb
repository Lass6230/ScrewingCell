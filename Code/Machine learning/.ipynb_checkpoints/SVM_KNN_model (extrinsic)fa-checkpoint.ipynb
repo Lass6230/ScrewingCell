{
 "cells": [
  {
   "cell_type": "markdown",
   "id": "61e52309",
   "metadata": {},
   "source": [
    "SVM_algorithm"
   ]
  },
  {
   "cell_type": "code",
   "execution_count": 2,
   "id": "eb1326a1",
   "metadata": {},
   "outputs": [],
   "source": [
    "import pandas as pd\n",
    "from sklearn.model_selection import train_test_split\n",
    "from sklearn.svm import SVC\n",
    "from sklearn.metrics import classification_report"
   ]
  },
  {
   "cell_type": "code",
   "execution_count": 3,
   "id": "1f248652",
   "metadata": {},
   "outputs": [],
   "source": [
    "feature_df = pd.read_csv(r\"C:\\Users\\GHB\\Desktop\\SCREW PROJECT\\Machine Learning\\Data\\testforSVM(task)(binary).csv\")"
   ]
  },
  {
   "cell_type": "code",
   "execution_count": 4,
   "id": "4a1a4fba",
   "metadata": {},
   "outputs": [],
   "source": [
    "from sklearn.preprocessing import LabelEncoder\n",
    "\n",
    "# Create a label encoder\n",
    "label_encoder = LabelEncoder()\n",
    "\n",
    "# Fit the label encoder to the 'label' column\n",
    "label_encoder.fit(feature_df['label'])\n",
    "\n",
    "# Transform the 'label' column using the label encoder\n",
    "feature_df['label'] = label_encoder.transform(feature_df['label'])"
   ]
  },
  {
   "cell_type": "code",
   "execution_count": 5,
   "id": "4b8134bd",
   "metadata": {},
   "outputs": [],
   "source": [
    "# Assuming feature_df is your DataFrame\n",
    "X1 = feature_df.drop('label', axis=1)\n",
    "X = feature_df.drop('name', axis=1)# Extract features\n",
    "y = feature_df['label']  # Extract labels"
   ]
  },
  {
   "cell_type": "code",
   "execution_count": 10,
   "id": "8d67ef96",
   "metadata": {},
   "outputs": [],
   "source": [
    "# Split data into training and test sets\n",
    "X_train, X_test, y_train, y_test = train_test_split(X, y, test_size=0.4)"
   ]
  },
  {
   "cell_type": "code",
   "execution_count": 11,
   "id": "5575e9fe",
   "metadata": {},
   "outputs": [
    {
     "name": "stdout",
     "output_type": "stream",
     "text": [
      "              precision    recall  f1-score   support\n",
      "\n",
      "           0       0.74      0.68      0.71        25\n",
      "           1       0.88      0.91      0.89        64\n",
      "\n",
      "    accuracy                           0.84        89\n",
      "   macro avg       0.81      0.79      0.80        89\n",
      "weighted avg       0.84      0.84      0.84        89\n",
      "\n"
     ]
    }
   ],
   "source": [
    "# Create a SVM model with a radial basis function (RBF) kernel\n",
    "svm_model = SVC(kernel='rbf')\n",
    "\n",
    "# Fit the model on the training data\n",
    "svm_model.fit(X_train, y_train)\n",
    "\n",
    "# Make predictions on the test data\n",
    "y_pred = svm_model.predict(X_test)\n",
    "\n",
    "# Evaluate the model's performance\n",
    "print(classification_report(y_test, y_pred))"
   ]
  },
  {
   "cell_type": "markdown",
   "id": "c19d96db",
   "metadata": {},
   "source": [
    "KNN algorithm"
   ]
  },
  {
   "cell_type": "code",
   "execution_count": 13,
   "id": "1f5735b6",
   "metadata": {},
   "outputs": [],
   "source": [
    "from sklearn.neighbors import KNeighborsClassifier\n",
    "from sklearn.model_selection import train_test_split\n",
    "from sklearn.metrics import classification_report"
   ]
  },
  {
   "cell_type": "code",
   "execution_count": 14,
   "id": "ed2f2176",
   "metadata": {},
   "outputs": [
    {
     "name": "stdout",
     "output_type": "stream",
     "text": [
      "              precision    recall  f1-score   support\n",
      "\n",
      "           0       1.00      0.71      0.83         7\n",
      "           1       0.95      1.00      0.97        38\n",
      "\n",
      "    accuracy                           0.96        45\n",
      "   macro avg       0.97      0.86      0.90        45\n",
      "weighted avg       0.96      0.96      0.95        45\n",
      "\n"
     ]
    }
   ],
   "source": [
    "# Creating the KNN classifier with k=3\n",
    "knn = KNeighborsClassifier(n_neighbors=3)\n",
    "\n",
    "# Training the KNN classifier on the training data\n",
    "knn.fit(X_train, y_train)\n",
    "\n",
    "# Making predictions on the testing data\n",
    "y_pred = knn.predict(X_test)\n",
    "\n",
    "# Evaluating the KNN classifier's performance\n",
    "print(classification_report(y_test, y_pred))"
   ]
  },
  {
   "cell_type": "code",
   "execution_count": null,
   "id": "1e1eff33",
   "metadata": {},
   "outputs": [],
   "source": []
  }
 ],
 "metadata": {
  "kernelspec": {
   "display_name": "Python 3 (ipykernel)",
   "language": "python",
   "name": "python3"
  },
  "language_info": {
   "codemirror_mode": {
    "name": "ipython",
    "version": 3
   },
   "file_extension": ".py",
   "mimetype": "text/x-python",
   "name": "python",
   "nbconvert_exporter": "python",
   "pygments_lexer": "ipython3",
   "version": "3.9.7"
  }
 },
 "nbformat": 4,
 "nbformat_minor": 5
}
