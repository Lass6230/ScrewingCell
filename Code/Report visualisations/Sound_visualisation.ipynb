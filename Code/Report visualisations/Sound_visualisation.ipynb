{
 "cells": [
  {
   "cell_type": "code",
   "execution_count": 6,
   "id": "a16fb558",
   "metadata": {},
   "outputs": [
    {
     "name": "stdout",
     "output_type": "stream",
     "text": [
      "Requirement already satisfied: librosa in g:\\programi\\anaconda3\\lib\\site-packages (0.9.2)\n",
      "Requirement already satisfied: numba>=0.45.1 in g:\\programi\\anaconda3\\lib\\site-packages (from librosa) (0.54.1)\n",
      "Requirement already satisfied: resampy>=0.2.2 in g:\\programi\\anaconda3\\lib\\site-packages (from librosa) (0.4.2)\n",
      "Requirement already satisfied: scikit-learn>=0.19.1 in g:\\programi\\anaconda3\\lib\\site-packages (from librosa) (0.24.2)\n",
      "Requirement already satisfied: joblib>=0.14 in g:\\programi\\anaconda3\\lib\\site-packages (from librosa) (1.1.0)\n",
      "Requirement already satisfied: pooch>=1.0 in c:\\users\\ghb\\appdata\\roaming\\python\\python39\\site-packages (from librosa) (1.6.0)\n",
      "Requirement already satisfied: numpy>=1.17.0 in g:\\programi\\anaconda3\\lib\\site-packages (from librosa) (1.20.3)\n",
      "Requirement already satisfied: audioread>=2.1.9 in c:\\users\\ghb\\appdata\\roaming\\python\\python39\\site-packages (from librosa) (3.0.0)\n",
      "Requirement already satisfied: soundfile>=0.10.2 in c:\\users\\ghb\\appdata\\roaming\\python\\python39\\site-packages (from librosa) (0.12.1)\n",
      "Requirement already satisfied: decorator>=4.0.10 in g:\\programi\\anaconda3\\lib\\site-packages (from librosa) (5.1.0)\n",
      "Requirement already satisfied: packaging>=20.0 in g:\\programi\\anaconda3\\lib\\site-packages (from librosa) (23.1)\n",
      "Requirement already satisfied: scipy>=1.2.0 in g:\\programi\\anaconda3\\lib\\site-packages (from librosa) (1.10.1)\n",
      "Requirement already satisfied: setuptools in g:\\programi\\anaconda3\\lib\\site-packages (from numba>=0.45.1->librosa) (58.0.4)\n",
      "Requirement already satisfied: llvmlite<0.38,>=0.37.0rc1 in g:\\programi\\anaconda3\\lib\\site-packages (from numba>=0.45.1->librosa) (0.37.0)\n",
      "Requirement already satisfied: appdirs>=1.3.0 in g:\\programi\\anaconda3\\lib\\site-packages (from pooch>=1.0->librosa) (1.4.4)\n",
      "Requirement already satisfied: requests>=2.19.0 in g:\\programi\\anaconda3\\lib\\site-packages (from pooch>=1.0->librosa) (2.26.0)\n",
      "Requirement already satisfied: idna<4,>=2.5 in g:\\programi\\anaconda3\\lib\\site-packages (from requests>=2.19.0->pooch>=1.0->librosa) (3.2)\n",
      "Requirement already satisfied: charset-normalizer~=2.0.0 in g:\\programi\\anaconda3\\lib\\site-packages (from requests>=2.19.0->pooch>=1.0->librosa) (2.0.4)\n",
      "Requirement already satisfied: urllib3<1.27,>=1.21.1 in g:\\programi\\anaconda3\\lib\\site-packages (from requests>=2.19.0->pooch>=1.0->librosa) (1.26.7)\n",
      "Requirement already satisfied: certifi>=2017.4.17 in g:\\programi\\anaconda3\\lib\\site-packages (from requests>=2.19.0->pooch>=1.0->librosa) (2021.10.8)\n",
      "Requirement already satisfied: threadpoolctl>=2.0.0 in g:\\programi\\anaconda3\\lib\\site-packages (from scikit-learn>=0.19.1->librosa) (2.2.0)\n",
      "Requirement already satisfied: cffi>=1.0 in g:\\programi\\anaconda3\\lib\\site-packages (from soundfile>=0.10.2->librosa) (1.14.6)\n",
      "Requirement already satisfied: pycparser in g:\\programi\\anaconda3\\lib\\site-packages (from cffi>=1.0->soundfile>=0.10.2->librosa) (2.20)\n"
     ]
    }
   ],
   "source": [
    "!pip install librosa\n"
   ]
  },
  {
   "cell_type": "code",
   "execution_count": 12,
   "id": "3b2999a9",
   "metadata": {},
   "outputs": [
    {
     "name": "stderr",
     "output_type": "stream",
     "text": [
      "C:\\Users\\GHB\\AppData\\Local\\Temp/ipykernel_18376/994952260.py:34: UserWarning: Matplotlib is currently using agg, which is a non-GUI backend, so cannot show the figure.\n",
      "  plt.show()\n"
     ]
    }
   ],
   "source": [
    "# Showing the MEL_spectrogram\n",
    "\n",
    "import os\n",
    "import matplotlib.pyplot as plt\n",
    "import librosa\n",
    "import librosa.display\n",
    "import numpy as np\n",
    "\n",
    "# Load the audio file\n",
    "sig, fs = librosa.load(r\"C:\\Users\\GHB\\Desktop\\Screwcell dataset\\Extrinsic data\\N\\e030520235006.wav\")   \n",
    "\n",
    "# Make pictures name \n",
    "save_path = 'test.jpg'\n",
    "\n",
    "# Create a new figure\n",
    "plt.figure(figsize=(10, 4))\n",
    "\n",
    "# Generate a Mel spectrogram\n",
    "S = librosa.feature.melspectrogram(y=sig, sr=fs)\n",
    "\n",
    "# Display the spectrogram\n",
    "librosa.display.specshow(librosa.power_to_db(S, ref=np.max))\n",
    "\n",
    "# Add a colorbar\n",
    "plt.colorbar(format='%+2.0f dB')\n",
    "\n",
    "# Add labels and title\n",
    "plt.title('Mel spectrogram')\n",
    "plt.xlabel('Time')\n",
    "plt.ylabel('Frequency')\n",
    "\n",
    "# Save the figure\n",
    "plt.savefig(save_path, bbox_inches='tight', pad_inches=0)\n",
    "\n",
    "# Display the figure\n",
    "plt.show()\n",
    "\n",
    "# Close the figure\n",
    "plt.close()"
   ]
  },
  {
   "cell_type": "code",
   "execution_count": 16,
   "id": "30ee24e1",
   "metadata": {},
   "outputs": [
    {
     "name": "stderr",
     "output_type": "stream",
     "text": [
      "C:\\Users\\GHB\\AppData\\Local\\Temp/ipykernel_18376/3188156011.py:36: UserWarning: Matplotlib is currently using agg, which is a non-GUI backend, so cannot show the figure.\n",
      "  plt.show()\n"
     ]
    }
   ],
   "source": [
    "import os\n",
    "import matplotlib.pyplot as plt\n",
    "import librosa\n",
    "import librosa.display\n",
    "import numpy as np\n",
    "\n",
    "# Load the audio file\n",
    "sig, fs = librosa.load(r\"C:\\Users\\GHB\\Desktop\\Screwcell dataset\\Extrinsic data\\N\\e030520235006.wav\")   \n",
    "\n",
    "# Calculate the Fourier Transform of the signal\n",
    "D = np.abs(librosa.stft(sig))\n",
    "stft_db = librosa.amplitude_to_db(D, ref=np.max)\n",
    "\n",
    "# Create a new figure\n",
    "plt.figure(figsize=(14, 9))\n",
    "\n",
    "# Generate and display the spectrogram\n",
    "plt.subplot(211)\n",
    "plt.title('Spectrogram')\n",
    "librosa.display.specshow(stft_db, sr=fs, x_axis='time', y_axis='log')\n",
    "plt.colorbar(format='%+2.0f dB')\n",
    "plt.xlabel('Time')\n",
    "plt.ylabel('Frequency (log scale)')\n",
    "\n",
    "# Generate and display the waveform\n",
    "plt.subplot(212)\n",
    "plt.title('Waveform')\n",
    "librosa.display.waveshow(sig, sr=fs)\n",
    "plt.xlabel('Time')\n",
    "plt.ylabel('Amplitude')\n",
    "\n",
    "# Save the figure\n",
    "plt.savefig('combined_figure.jpg')\n",
    "\n",
    "# Display the figure\n",
    "plt.show()\n",
    "\n",
    "# Close the figure\n",
    "plt.close()\n"
   ]
  },
  {
   "cell_type": "code",
   "execution_count": null,
   "id": "0dfb89bc",
   "metadata": {},
   "outputs": [],
   "source": []
  }
 ],
 "metadata": {
  "kernelspec": {
   "display_name": "Python 3 (ipykernel)",
   "language": "python",
   "name": "python3"
  },
  "language_info": {
   "codemirror_mode": {
    "name": "ipython",
    "version": 3
   },
   "file_extension": ".py",
   "mimetype": "text/x-python",
   "name": "python",
   "nbconvert_exporter": "python",
   "pygments_lexer": "ipython3",
   "version": "3.9.7"
  }
 },
 "nbformat": 4,
 "nbformat_minor": 5
}
