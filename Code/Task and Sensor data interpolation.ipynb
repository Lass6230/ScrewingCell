{
 "cells": [
  {
   "cell_type": "code",
   "execution_count": 30,
   "id": "74425673",
   "metadata": {},
   "outputs": [],
   "source": [
    "import pandas as pd\n",
    "from scipy.signal import resample\n",
    "import numpy as np\n",
    "\n",
    "\n",
    "# Load the CSV files and parse the timestamp columns\n",
    "robot_data = pd.read_csv(r\"C:\\Users\\GHB\\Desktop\\Final test\\Task data\\N\\t210420231000.csv\")\n",
    "sensor_data = pd.read_csv(r\"C:\\Users\\GHB\\Desktop\\Final test\\Intrinsic data\\N\\i250420231000.csv\")\n",
    "\n",
    "# Convert robot_data's timestamp column to milliseconds\n",
    "robot_data['Time'] = robot_data['Time'].multiply(1000)\n",
    "\n",
    "# Rename the timestamp column in sensor_data for consistency\n",
    "sensor_data.rename(columns={'Time (ms)': 'Time'}, inplace=True)\n",
    "\n",
    "# Set the timestamp columns as index for both DataFrames\n",
    "robot_data.set_index('Time', inplace=True)\n",
    "sensor_data.set_index('Time', inplace=True)\n",
    "\n",
    "# Convert all columns to numeric and fill missing values with an appropriate method, e.g., forward fill\n",
    "robot_data = robot_data.apply(pd.to_numeric, errors='coerce').fillna(method='ffill')\n",
    "sensor_data = sensor_data.apply(pd.to_numeric, errors='coerce').fillna(method='ffill')\n",
    "\n",
    "# Reindex sensor_data with the index of robot_data, using interpolation to fill missing values\n",
    "sensor_data = sensor_data.reindex(sensor_data.index.union(robot_data.index)).interpolate(method='index').reindex(robot_data.index)\n",
    "\n",
    "\n",
    "# Merge the two DataFrames on their index\n",
    "combined_data = pd.merge(robot_data, sensor_data, left_index=True, right_index=True, suffixes=('_robot', '_sensor'))\n",
    "\n",
    "# Reset the index to move the timestamp back to a column\n",
    "combined_data.reset_index(inplace=True)\n",
    "\n",
    "# Rename the index column to 'Time'\n",
    "combined_data.rename(columns={'index': 'Time'}, inplace=True)"
   ]
  },
  {
   "cell_type": "code",
   "execution_count": 25,
   "id": "d396e980",
   "metadata": {},
   "outputs": [
    {
     "ename": "SyntaxError",
     "evalue": "invalid syntax (Temp/ipykernel_27456/3386569258.py, line 6)",
     "output_type": "error",
     "traceback": [
      "\u001b[1;36m  File \u001b[1;32m\"C:\\Users\\GHB\\AppData\\Local\\Temp/ipykernel_27456/3386569258.py\"\u001b[1;36m, line \u001b[1;32m6\u001b[0m\n\u001b[1;33m    robot_data['Time'] = robot_data['Time'].multiply(1000)\u001b[0m\n\u001b[1;37m    ^\u001b[0m\n\u001b[1;31mSyntaxError\u001b[0m\u001b[1;31m:\u001b[0m invalid syntax\n"
     ]
    }
   ],
   "source": []
  },
  {
   "cell_type": "code",
   "execution_count": 16,
   "id": "ed5c482d",
   "metadata": {},
   "outputs": [],
   "source": []
  },
  {
   "cell_type": "code",
   "execution_count": 17,
   "id": "519079df",
   "metadata": {},
   "outputs": [],
   "source": []
  },
  {
   "cell_type": "code",
   "execution_count": 31,
   "id": "cb2dd4a6",
   "metadata": {},
   "outputs": [],
   "source": [
    "combined_data.to_csv(r\"C:\\Users\\GHB\\Desktop\\Final test\\testcombined.csv\", index=False)"
   ]
  },
  {
   "cell_type": "code",
   "execution_count": null,
   "id": "6e7f0f9a",
   "metadata": {},
   "outputs": [],
   "source": []
  },
  {
   "cell_type": "code",
   "execution_count": null,
   "id": "948712d3",
   "metadata": {},
   "outputs": [],
   "source": []
  }
 ],
 "metadata": {
  "kernelspec": {
   "display_name": "Python 3 (ipykernel)",
   "language": "python",
   "name": "python3"
  },
  "language_info": {
   "codemirror_mode": {
    "name": "ipython",
    "version": 3
   },
   "file_extension": ".py",
   "mimetype": "text/x-python",
   "name": "python",
   "nbconvert_exporter": "python",
   "pygments_lexer": "ipython3",
   "version": "3.9.7"
  }
 },
 "nbformat": 4,
 "nbformat_minor": 5
}
