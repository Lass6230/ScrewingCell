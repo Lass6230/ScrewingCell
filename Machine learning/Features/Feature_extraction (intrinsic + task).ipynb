{
  "cells": [
    {
      "cell_type": "code",
      "execution_count": null,
      "metadata": {
        "colab": {
          "base_uri": "https://localhost:8080/"
        },
        "id": "dkdDwO_2oMxq",
        "outputId": "3e4733bc-837a-4819-ba71-e89a97967918"
      },
      "outputs": [
        {
          "name": "stdout",
          "output_type": "stream",
          "text": [
            "Looking in indexes: https://pypi.org/simple, https://us-python.pkg.dev/colab-wheels/public/simple/\n",
            "Collecting tsfresh\n",
            "  Downloading tsfresh-0.20.0-py2.py3-none-any.whl (98 kB)\n",
            "\u001b[2K     \u001b[90m━━━━━━━━━━━━━━━━━━━━━━━━━━━━━━━━━━━━━━━━\u001b[0m \u001b[32m98.2/98.2 kB\u001b[0m \u001b[31m5.3 MB/s\u001b[0m eta \u001b[36m0:00:00\u001b[0m\n",
            "\u001b[?25hRequirement already satisfied: requests>=2.9.1 in /usr/local/lib/python3.10/dist-packages (from tsfresh) (2.27.1)\n",
            "Requirement already satisfied: numpy>=1.15.1 in /usr/local/lib/python3.10/dist-packages (from tsfresh) (1.22.4)\n",
            "Requirement already satisfied: pandas>=0.25.0 in /usr/local/lib/python3.10/dist-packages (from tsfresh) (1.5.3)\n",
            "Requirement already satisfied: scipy>=1.2.0 in /usr/local/lib/python3.10/dist-packages (from tsfresh) (1.10.1)\n",
            "Requirement already satisfied: statsmodels>=0.13 in /usr/local/lib/python3.10/dist-packages (from tsfresh) (0.13.5)\n",
            "Requirement already satisfied: patsy>=0.4.1 in /usr/local/lib/python3.10/dist-packages (from tsfresh) (0.5.3)\n",
            "Requirement already satisfied: scikit-learn>=0.22.0 in /usr/local/lib/python3.10/dist-packages (from tsfresh) (1.2.2)\n",
            "Requirement already satisfied: tqdm>=4.10.0 in /usr/local/lib/python3.10/dist-packages (from tsfresh) (4.65.0)\n",
            "Requirement already satisfied: dask[dataframe]>=2.9.0 in /usr/local/lib/python3.10/dist-packages (from tsfresh) (2022.12.1)\n",
            "Requirement already satisfied: distributed>=2.11.0 in /usr/local/lib/python3.10/dist-packages (from tsfresh) (2022.12.1)\n",
            "Collecting stumpy>=1.7.2 (from tsfresh)\n",
            "  Downloading stumpy-1.11.1-py3-none-any.whl (136 kB)\n",
            "\u001b[2K     \u001b[90m━━━━━━━━━━━━━━━━━━━━━━━━━━━━━━━━━━━━━━━\u001b[0m \u001b[32m136.2/136.2 kB\u001b[0m \u001b[31m8.9 MB/s\u001b[0m eta \u001b[36m0:00:00\u001b[0m\n",
            "\u001b[?25hRequirement already satisfied: cloudpickle in /usr/local/lib/python3.10/dist-packages (from tsfresh) (2.2.1)\n",
            "Requirement already satisfied: click>=7.0 in /usr/local/lib/python3.10/dist-packages (from dask[dataframe]>=2.9.0->tsfresh) (8.1.3)\n",
            "Requirement already satisfied: fsspec>=0.6.0 in /usr/local/lib/python3.10/dist-packages (from dask[dataframe]>=2.9.0->tsfresh) (2023.4.0)\n",
            "Requirement already satisfied: packaging>=20.0 in /usr/local/lib/python3.10/dist-packages (from dask[dataframe]>=2.9.0->tsfresh) (23.1)\n",
            "Requirement already satisfied: partd>=0.3.10 in /usr/local/lib/python3.10/dist-packages (from dask[dataframe]>=2.9.0->tsfresh) (1.4.0)\n",
            "Requirement already satisfied: pyyaml>=5.3.1 in /usr/local/lib/python3.10/dist-packages (from dask[dataframe]>=2.9.0->tsfresh) (6.0)\n",
            "Requirement already satisfied: toolz>=0.8.2 in /usr/local/lib/python3.10/dist-packages (from dask[dataframe]>=2.9.0->tsfresh) (0.12.0)\n",
            "Requirement already satisfied: jinja2 in /usr/local/lib/python3.10/dist-packages (from distributed>=2.11.0->tsfresh) (3.1.2)\n",
            "Requirement already satisfied: locket>=1.0.0 in /usr/local/lib/python3.10/dist-packages (from distributed>=2.11.0->tsfresh) (1.0.0)\n",
            "Requirement already satisfied: msgpack>=0.6.0 in /usr/local/lib/python3.10/dist-packages (from distributed>=2.11.0->tsfresh) (1.0.5)\n",
            "Requirement already satisfied: psutil>=5.0 in /usr/local/lib/python3.10/dist-packages (from distributed>=2.11.0->tsfresh) (5.9.5)\n",
            "Requirement already satisfied: sortedcontainers!=2.0.0,!=2.0.1 in /usr/local/lib/python3.10/dist-packages (from distributed>=2.11.0->tsfresh) (2.4.0)\n",
            "Requirement already satisfied: tblib>=1.6.0 in /usr/local/lib/python3.10/dist-packages (from distributed>=2.11.0->tsfresh) (1.7.0)\n",
            "Requirement already satisfied: tornado>=6.0.3 in /usr/local/lib/python3.10/dist-packages (from distributed>=2.11.0->tsfresh) (6.3.1)\n",
            "Requirement already satisfied: urllib3 in /usr/local/lib/python3.10/dist-packages (from distributed>=2.11.0->tsfresh) (1.26.15)\n",
            "Requirement already satisfied: zict>=0.1.3 in /usr/local/lib/python3.10/dist-packages (from distributed>=2.11.0->tsfresh) (3.0.0)\n",
            "Requirement already satisfied: python-dateutil>=2.8.1 in /usr/local/lib/python3.10/dist-packages (from pandas>=0.25.0->tsfresh) (2.8.2)\n",
            "Requirement already satisfied: pytz>=2020.1 in /usr/local/lib/python3.10/dist-packages (from pandas>=0.25.0->tsfresh) (2022.7.1)\n",
            "Requirement already satisfied: six in /usr/local/lib/python3.10/dist-packages (from patsy>=0.4.1->tsfresh) (1.16.0)\n",
            "Requirement already satisfied: certifi>=2017.4.17 in /usr/local/lib/python3.10/dist-packages (from requests>=2.9.1->tsfresh) (2022.12.7)\n",
            "Requirement already satisfied: charset-normalizer~=2.0.0 in /usr/local/lib/python3.10/dist-packages (from requests>=2.9.1->tsfresh) (2.0.12)\n",
            "Requirement already satisfied: idna<4,>=2.5 in /usr/local/lib/python3.10/dist-packages (from requests>=2.9.1->tsfresh) (3.4)\n",
            "Requirement already satisfied: joblib>=1.1.1 in /usr/local/lib/python3.10/dist-packages (from scikit-learn>=0.22.0->tsfresh) (1.2.0)\n",
            "Requirement already satisfied: threadpoolctl>=2.0.0 in /usr/local/lib/python3.10/dist-packages (from scikit-learn>=0.22.0->tsfresh) (3.1.0)\n",
            "Requirement already satisfied: numba>=0.54 in /usr/local/lib/python3.10/dist-packages (from stumpy>=1.7.2->tsfresh) (0.56.4)\n",
            "Requirement already satisfied: llvmlite<0.40,>=0.39.0dev0 in /usr/local/lib/python3.10/dist-packages (from numba>=0.54->stumpy>=1.7.2->tsfresh) (0.39.1)\n",
            "Requirement already satisfied: setuptools in /usr/local/lib/python3.10/dist-packages (from numba>=0.54->stumpy>=1.7.2->tsfresh) (67.7.2)\n",
            "Requirement already satisfied: MarkupSafe>=2.0 in /usr/local/lib/python3.10/dist-packages (from jinja2->distributed>=2.11.0->tsfresh) (2.1.2)\n",
            "Installing collected packages: stumpy, tsfresh\n",
            "Successfully installed stumpy-1.11.1 tsfresh-0.20.0\n"
          ]
        }
      ],
      "source": [
        "!pip install tsfresh"
      ]
    },
    {
      "cell_type": "code",
      "execution_count": null,
      "metadata": {
        "id": "OhL3t57DostG"
      },
      "outputs": [],
      "source": [
        "import os\n",
        "import pandas as pd\n",
        "import numpy as np\n",
        "from tsfresh import extract_features\n",
        "from tsfresh.feature_extraction import EfficientFCParameters, MinimalFCParameters, extract_features\n",
        "from tsfresh.utilities.dataframe_functions import make_forecasting_frame\n",
        "from tsfresh import select_features\n",
        "from tsfresh.utilities.dataframe_functions import impute"
      ]
    },
    {
      "cell_type": "code",
      "execution_count": null,
      "metadata": {
        "id": "z_v5sDQXoyO-"
      },
      "outputs": [],
      "source": [
        "# Read the DataFrame from the HDF5 file\n",
        "df = pd.read_hdf(r\"/content/drive/MyDrive/Dataset.h5\", key='dataset')"
      ]
    },
    {
      "cell_type": "code",
      "execution_count": null,
      "metadata": {
        "colab": {
          "base_uri": "https://localhost:8080/"
        },
        "id": "1tbT7LhApEZ2",
        "outputId": "6eaa635e-6f96-49ad-defd-13d21fe21214"
      },
      "outputs": [
        {
          "name": "stdout",
          "output_type": "stream",
          "text": [
            "                  Source  Time (ms)          Type  Value\n",
            "0          i030520235006      0.000  Nset (1/min)  0.000\n",
            "1          i030520235068      0.000  Nset (1/min)  0.000\n",
            "2          i050520238018      0.000   Angle (deg)  0.000\n",
            "3          i030520237070      0.000   Angle (deg)  0.000\n",
            "4          i280420232085      0.000   Angle (deg)  0.000\n",
            "...                  ...        ...           ...    ...\n",
            "33375222  t1005202314051   5001.519    TCP_y (mm)  2.600\n",
            "33375223  t1005202314051   5001.519    TCP_x (mm)  0.000\n",
            "33375224  t1005202314051   5001.519  TCP_rz (rad) -1.204\n",
            "33375225  t1005202314051   5001.519    TCP_z (mm) -4.600\n",
            "33375226  t1005202314051   5001.519  TCP_rx (rad)  1.234\n",
            "\n",
            "[33375227 rows x 4 columns]\n"
          ]
        }
      ],
      "source": [
        "print(df)"
      ]
    },
    {
      "cell_type": "code",
      "execution_count": null,
      "metadata": {
        "id": "yM2fCmbDfjYr"
      },
      "outputs": [],
      "source": [
        "df_intrinsic = df"
      ]
    },
    {
      "cell_type": "code",
      "execution_count": null,
      "metadata": {
        "colab": {
          "base_uri": "https://localhost:8080/"
        },
        "id": "F694hSmEPRMk",
        "outputId": "53772ae8-999f-4e79-8ba9-f6ce70a5129e"
      },
      "outputs": [
        {
          "name": "stdout",
          "output_type": "stream",
          "text": [
            "                  Source  Time (ms)          Type  Value\n",
            "46        t1005202313030      0.000   Robot_I (A)  1.091\n",
            "47        t1005202313030      0.000  TCP_rz (rad) -1.208\n",
            "48        t1005202313030      0.000  TCP_ry (rad)  1.171\n",
            "86         t280420233060      0.000    TCP_x (mm)  0.000\n",
            "174       t1005202313030      0.000  TCP_rx (rad)  1.228\n",
            "...                  ...        ...           ...    ...\n",
            "33375222  t1005202314051   5001.519    TCP_y (mm)  2.600\n",
            "33375223  t1005202314051   5001.519    TCP_x (mm)  0.000\n",
            "33375224  t1005202314051   5001.519  TCP_rz (rad) -1.204\n",
            "33375225  t1005202314051   5001.519    TCP_z (mm) -4.600\n",
            "33375226  t1005202314051   5001.519  TCP_rx (rad)  1.234\n",
            "\n",
            "[12905592 rows x 4 columns]\n"
          ]
        }
      ],
      "source": [
        "df_intrinsic = df[df['Source'].str.startswith('t')]\n",
        "print(df_intrinsic)"
      ]
    },
    {
      "cell_type": "code",
      "execution_count": null,
      "metadata": {
        "colab": {
          "base_uri": "https://localhost:8080/"
        },
        "id": "n9xPR3UjpKJ-",
        "outputId": "2f0c419d-1cc2-417f-a46b-5a9452e5a2db"
      },
      "outputs": [
        {
          "name": "stdout",
          "output_type": "stream",
          "text": [
            "                      id      time          kind  value\n",
            "0          i030520235006     0.000  Nset (1/min)  0.000\n",
            "1          i030520235068     0.000  Nset (1/min)  0.000\n",
            "2          i050520238018     0.000   Angle (deg)  0.000\n",
            "3          i030520237070     0.000   Angle (deg)  0.000\n",
            "4          i280420232085     0.000   Angle (deg)  0.000\n",
            "...                  ...       ...           ...    ...\n",
            "33375222  t1005202314051  5001.519    TCP_y (mm)  2.600\n",
            "33375223  t1005202314051  5001.519    TCP_x (mm)  0.000\n",
            "33375224  t1005202314051  5001.519  TCP_rz (rad) -1.204\n",
            "33375225  t1005202314051  5001.519    TCP_z (mm) -4.600\n",
            "33375226  t1005202314051  5001.519  TCP_rx (rad)  1.234\n",
            "\n",
            "[33375227 rows x 4 columns]\n"
          ]
        }
      ],
      "source": [
        "# Rename columns to meet tsfresh requirements\n",
        "df_intrinsic = df_intrinsic.rename(columns={'Source': 'id', 'Time (ms)': 'time', 'Type': 'kind', 'Value': 'value'})\n",
        "\n",
        "print(df_intrinsic)\n",
        "\n",
        "\n"
      ]
    },
    {
      "cell_type": "code",
      "execution_count": null,
      "metadata": {
        "colab": {
          "base_uri": "https://localhost:8080/"
        },
        "id": "rKroSqIpv7Re",
        "outputId": "64648bd4-eedf-42d2-c67a-4b0064b14a2c"
      },
      "outputs": [
        {
          "name": "stdout",
          "output_type": "stream",
          "text": [
            "                       id      time          kind  value\n",
            "0          id030520235006     0.000  Nset (1/min)  0.000\n",
            "1          id030520235068     0.000  Nset (1/min)  0.000\n",
            "2          id050520238018     0.000   Angle (deg)  0.000\n",
            "3          id030520237070     0.000   Angle (deg)  0.000\n",
            "4          id280420232085     0.000   Angle (deg)  0.000\n",
            "...                   ...       ...           ...    ...\n",
            "33375222  id1005202314051  5001.519    TCP_y (mm)  2.600\n",
            "33375223  id1005202314051  5001.519    TCP_x (mm)  0.000\n",
            "33375224  id1005202314051  5001.519  TCP_rz (rad) -1.204\n",
            "33375225  id1005202314051  5001.519    TCP_z (mm) -4.600\n",
            "33375226  id1005202314051  5001.519  TCP_rx (rad)  1.234\n",
            "\n",
            "[33375227 rows x 4 columns]\n"
          ]
        }
      ],
      "source": [
        "df_intrinsic['id'] = 'id_' + df_intrinsic['id']\n",
        "\n",
        "# Replace \"idt\" with \"id\" in the column\n",
        "df_intrinsic['id'] = df_intrinsic['id'].str.replace('id_t', 'id', regex=True)\n",
        "df_intrinsic['id'] = df_intrinsic['id'].str.replace('id_i', 'id', regex=True)\n",
        "print(df_intrinsic)"
      ]
    },
    {
      "cell_type": "code",
      "execution_count": null,
      "metadata": {
        "colab": {
          "background_save": true,
          "base_uri": "https://localhost:8080/"
        },
        "id": "yRJW2nxJv0tf",
        "outputId": "32ca9e49-8b01-406f-b693-e4ac84b1e3fe"
      },
      "outputs": [
        {
          "name": "stderr",
          "output_type": "stream",
          "text": [
            "WARNING:tsfresh.feature_extraction.settings:Dependency not available for matrix_profile, this feature will be disabled!\n",
            "WARNING:tsfresh.feature_extraction.settings:Dependency not available for matrix_profile, this feature will be disabled!\n",
            "Feature Extraction: 100%|██████████| 16092/16092 [1:47:27<00:00,  2.50it/s]\n"
          ]
        }
      ],
      "source": [
        "# Define feature extraction settings\n",
        "#settings = MinimalFCParameters()\n",
        "settings = EfficientFCParameters()\n",
        "\n",
        "# Extract features\n",
        "extracted_features = extract_features(df_intrinsic, column_id=\"id\", column_kind=\"kind\", column_sort=\"time\", column_value=\"value\", default_fc_parameters=EfficientFCParameters())\n"
      ]
    },
    {
      "cell_type": "code",
      "execution_count": null,
      "metadata": {
        "colab": {
          "background_save": true
        },
        "id": "Ij4Rh6sY-bh8",
        "outputId": "48a66ad8-78b4-420f-ffe4-6bbaf81dff44"
      },
      "outputs": [
        {
          "name": "stderr",
          "output_type": "stream",
          "text": [
            "/usr/local/lib/python3.10/dist-packages/tsfresh/utilities/dataframe_functions.py:198: RuntimeWarning: The columns ['Angle (deg)__query_similarity_count__query_None__threshold_0.0'\n",
            " 'Current (V)__query_similarity_count__query_None__threshold_0.0'\n",
            " 'Depth (mm)__friedrich_coefficients__coeff_0__m_3__r_30'\n",
            " 'Depth (mm)__friedrich_coefficients__coeff_1__m_3__r_30'\n",
            " 'Depth (mm)__friedrich_coefficients__coeff_2__m_3__r_30'\n",
            " 'Depth (mm)__friedrich_coefficients__coeff_3__m_3__r_30'\n",
            " 'Depth (mm)__max_langevin_fixed_point__m_3__r_30'\n",
            " 'Depth (mm)__query_similarity_count__query_None__threshold_0.0'\n",
            " 'Nset (1/min)__friedrich_coefficients__coeff_0__m_3__r_30'\n",
            " 'Nset (1/min)__friedrich_coefficients__coeff_1__m_3__r_30'\n",
            " 'Nset (1/min)__friedrich_coefficients__coeff_2__m_3__r_30'\n",
            " 'Nset (1/min)__friedrich_coefficients__coeff_3__m_3__r_30'\n",
            " 'Nset (1/min)__max_langevin_fixed_point__m_3__r_30'\n",
            " 'Nset (1/min)__query_similarity_count__query_None__threshold_0.0'\n",
            " 'Robot_I (A)__friedrich_coefficients__coeff_0__m_3__r_30'\n",
            " 'Robot_I (A)__friedrich_coefficients__coeff_1__m_3__r_30'\n",
            " 'Robot_I (A)__friedrich_coefficients__coeff_2__m_3__r_30'\n",
            " 'Robot_I (A)__friedrich_coefficients__coeff_3__m_3__r_30'\n",
            " 'Robot_I (A)__max_langevin_fixed_point__m_3__r_30'\n",
            " 'Robot_I (A)__query_similarity_count__query_None__threshold_0.0'\n",
            " 'TCP_rx (rad)__friedrich_coefficients__coeff_0__m_3__r_30'\n",
            " 'TCP_rx (rad)__friedrich_coefficients__coeff_1__m_3__r_30'\n",
            " 'TCP_rx (rad)__friedrich_coefficients__coeff_2__m_3__r_30'\n",
            " 'TCP_rx (rad)__friedrich_coefficients__coeff_3__m_3__r_30'\n",
            " 'TCP_rx (rad)__max_langevin_fixed_point__m_3__r_30'\n",
            " 'TCP_rx (rad)__query_similarity_count__query_None__threshold_0.0'\n",
            " 'TCP_ry (rad)__friedrich_coefficients__coeff_0__m_3__r_30'\n",
            " 'TCP_ry (rad)__friedrich_coefficients__coeff_1__m_3__r_30'\n",
            " 'TCP_ry (rad)__friedrich_coefficients__coeff_2__m_3__r_30'\n",
            " 'TCP_ry (rad)__friedrich_coefficients__coeff_3__m_3__r_30'\n",
            " 'TCP_ry (rad)__max_langevin_fixed_point__m_3__r_30'\n",
            " 'TCP_ry (rad)__query_similarity_count__query_None__threshold_0.0'\n",
            " 'TCP_rz (rad)__friedrich_coefficients__coeff_0__m_3__r_30'\n",
            " 'TCP_rz (rad)__friedrich_coefficients__coeff_1__m_3__r_30'\n",
            " 'TCP_rz (rad)__friedrich_coefficients__coeff_2__m_3__r_30'\n",
            " 'TCP_rz (rad)__friedrich_coefficients__coeff_3__m_3__r_30'\n",
            " 'TCP_rz (rad)__max_langevin_fixed_point__m_3__r_30'\n",
            " 'TCP_rz (rad)__query_similarity_count__query_None__threshold_0.0'\n",
            " 'TCP_x (mm)__friedrich_coefficients__coeff_0__m_3__r_30'\n",
            " 'TCP_x (mm)__friedrich_coefficients__coeff_1__m_3__r_30'\n",
            " 'TCP_x (mm)__friedrich_coefficients__coeff_2__m_3__r_30'\n",
            " 'TCP_x (mm)__friedrich_coefficients__coeff_3__m_3__r_30'\n",
            " 'TCP_x (mm)__max_langevin_fixed_point__m_3__r_30'\n",
            " 'TCP_x (mm)__query_similarity_count__query_None__threshold_0.0'\n",
            " 'TCP_y (mm)__friedrich_coefficients__coeff_0__m_3__r_30'\n",
            " 'TCP_y (mm)__friedrich_coefficients__coeff_1__m_3__r_30'\n",
            " 'TCP_y (mm)__friedrich_coefficients__coeff_2__m_3__r_30'\n",
            " 'TCP_y (mm)__friedrich_coefficients__coeff_3__m_3__r_30'\n",
            " 'TCP_y (mm)__max_langevin_fixed_point__m_3__r_30'\n",
            " 'TCP_y (mm)__query_similarity_count__query_None__threshold_0.0'\n",
            " 'TCP_z (mm)__friedrich_coefficients__coeff_0__m_3__r_30'\n",
            " 'TCP_z (mm)__friedrich_coefficients__coeff_1__m_3__r_30'\n",
            " 'TCP_z (mm)__friedrich_coefficients__coeff_2__m_3__r_30'\n",
            " 'TCP_z (mm)__friedrich_coefficients__coeff_3__m_3__r_30'\n",
            " 'TCP_z (mm)__max_langevin_fixed_point__m_3__r_30'\n",
            " 'TCP_z (mm)__query_similarity_count__query_None__threshold_0.0'\n",
            " 'Torque (Nm)__query_similarity_count__query_None__threshold_0.0'] did not have any finite values. Filling with zeros.\n",
            "  warnings.warn(\n"
          ]
        }
      ],
      "source": [
        "# Step 2: Impute missing (NaN) values\n",
        "imputed_features = impute(extracted_features)"
      ]
    },
    {
      "cell_type": "code",
      "execution_count": null,
      "metadata": {
        "colab": {
          "base_uri": "https://localhost:8080/"
        },
        "id": "yCxoL4U-po9t",
        "outputId": "ba05f363-1c11-4a24-daf2-07d5b6f7f3d6"
      },
      "outputs": [
        {
          "name": "stdout",
          "output_type": "stream",
          "text": [
            "                Angle (deg)__variance_larger_than_standard_deviation  \\\n",
            "id030520234000                                                1.0      \n",
            "id030520234001                                                1.0      \n",
            "id030520234002                                                1.0      \n",
            "id030520234003                                                1.0      \n",
            "id030520234004                                                1.0      \n",
            "...                                                           ...      \n",
            "id280420233082                                                1.0      \n",
            "id280420233083                                                1.0      \n",
            "id280420233084                                                1.0      \n",
            "id280420233085                                                1.0      \n",
            "id280420233086                                                1.0      \n",
            "\n",
            "                Angle (deg)__has_duplicate_max  \\\n",
            "id030520234000                             0.0   \n",
            "id030520234001                             0.0   \n",
            "id030520234002                             0.0   \n",
            "id030520234003                             0.0   \n",
            "id030520234004                             0.0   \n",
            "...                                        ...   \n",
            "id280420233082                             0.0   \n",
            "id280420233083                             0.0   \n",
            "id280420233084                             0.0   \n",
            "id280420233085                             0.0   \n",
            "id280420233086                             0.0   \n",
            "\n",
            "                Angle (deg)__has_duplicate_min  Angle (deg)__has_duplicate  \\\n",
            "id030520234000                             1.0                         1.0   \n",
            "id030520234001                             1.0                         1.0   \n",
            "id030520234002                             1.0                         1.0   \n",
            "id030520234003                             1.0                         1.0   \n",
            "id030520234004                             1.0                         1.0   \n",
            "...                                        ...                         ...   \n",
            "id280420233082                             1.0                         1.0   \n",
            "id280420233083                             1.0                         1.0   \n",
            "id280420233084                             1.0                         1.0   \n",
            "id280420233085                             1.0                         1.0   \n",
            "id280420233086                             1.0                         1.0   \n",
            "\n",
            "                Angle (deg)__sum_values  Angle (deg)__abs_energy  \\\n",
            "id030520234000             2.495588e+06             4.535497e+09   \n",
            "id030520234001             2.158879e+06             3.649226e+09   \n",
            "id030520234002             2.345152e+06             4.131616e+09   \n",
            "id030520234003             1.558602e+06             2.238406e+09   \n",
            "id030520234004             1.867665e+06             2.936232e+09   \n",
            "...                                 ...                      ...   \n",
            "id280420233082             3.037567e+06             6.090566e+09   \n",
            "id280420233083             3.314281e+06             6.941544e+09   \n",
            "id280420233084             3.263832e+06             6.783730e+09   \n",
            "id280420233085             3.064482e+06             6.171634e+09   \n",
            "id280420233086             3.140530e+06             6.402827e+09   \n",
            "\n",
            "                Angle (deg)__mean_abs_change  Angle (deg)__mean_change  \\\n",
            "id030520234000                      2.904295                  0.000923   \n",
            "id030520234001                      2.898743                  0.000914   \n",
            "id030520234002                      2.901866                  0.000878   \n",
            "id030520234003                      2.884962                  0.001071   \n",
            "id030520234004                      2.892949                  0.000981   \n",
            "...                                      ...                       ...   \n",
            "id280420233082                      2.906474                  0.000580   \n",
            "id280420233083                      2.909568                  0.000556   \n",
            "id280420233084                      2.909017                  0.000560   \n",
            "id280420233085                      2.906718                  0.000577   \n",
            "id280420233086                      2.907731                  0.000507   \n",
            "\n",
            "                Angle (deg)__mean_second_derivative_central  \\\n",
            "id030520234000                                          0.0   \n",
            "id030520234001                                          0.0   \n",
            "id030520234002                                          0.0   \n",
            "id030520234003                                          0.0   \n",
            "id030520234004                                          0.0   \n",
            "...                                                     ...   \n",
            "id280420233082                                          0.0   \n",
            "id280420233083                                          0.0   \n",
            "id280420233084                                          0.0   \n",
            "id280420233085                                          0.0   \n",
            "id280420233086                                          0.0   \n",
            "\n",
            "                Angle (deg)__median  ...  \\\n",
            "id030520234000          1327.200000  ...   \n",
            "id030520234001          1231.866700  ...   \n",
            "id030520234002          1285.466670  ...   \n",
            "id030520234003          1041.333370  ...   \n",
            "id030520234004          1143.266665  ...   \n",
            "...                             ...  ...   \n",
            "id280420233082          1465.866700  ...   \n",
            "id280420233083          1532.800000  ...   \n",
            "id280420233084          1520.666630  ...   \n",
            "id280420233085          1472.400000  ...   \n",
            "id280420233086          1490.933350  ...   \n",
            "\n",
            "                Torque (Nm)__fourier_entropy__bins_5  \\\n",
            "id030520234000                              0.045395   \n",
            "id030520234001                              0.045395   \n",
            "id030520234002                              0.045395   \n",
            "id030520234003                              0.045395   \n",
            "id030520234004                              0.045395   \n",
            "...                                              ...   \n",
            "id280420233082                              0.045395   \n",
            "id280420233083                              0.090729   \n",
            "id280420233084                              0.045395   \n",
            "id280420233085                              0.045395   \n",
            "id280420233086                              0.045395   \n",
            "\n",
            "                Torque (Nm)__fourier_entropy__bins_10  \\\n",
            "id030520234000                               0.090729   \n",
            "id030520234001                               0.090729   \n",
            "id030520234002                               0.090729   \n",
            "id030520234003                               0.090729   \n",
            "id030520234004                               0.045395   \n",
            "...                                               ...   \n",
            "id280420233082                               0.090729   \n",
            "id280420233083                               0.090729   \n",
            "id280420233084                               0.090729   \n",
            "id280420233085                               0.090729   \n",
            "id280420233086                               0.090729   \n",
            "\n",
            "                Torque (Nm)__fourier_entropy__bins_100  \\\n",
            "id030520234000                                0.694592   \n",
            "id030520234001                                0.655038   \n",
            "id030520234002                                0.614553   \n",
            "id030520234003                                0.539692   \n",
            "id030520234004                                0.566851   \n",
            "...                                                ...   \n",
            "id280420233082                                0.226363   \n",
            "id280420233083                                0.335886   \n",
            "id280420233084                                0.762403   \n",
            "id280420233085                                0.181214   \n",
            "id280420233086                                0.215617   \n",
            "\n",
            "                Torque (Nm)__permutation_entropy__dimension_3__tau_1  \\\n",
            "id030520234000                                           1.785406      \n",
            "id030520234001                                           1.780918      \n",
            "id030520234002                                           1.780365      \n",
            "id030520234003                                           1.777745      \n",
            "id030520234004                                           1.780528      \n",
            "...                                                           ...      \n",
            "id280420233082                                           1.778769      \n",
            "id280420233083                                           1.784767      \n",
            "id280420233084                                           1.780365      \n",
            "id280420233085                                           1.782505      \n",
            "id280420233086                                           1.784190      \n",
            "\n",
            "                Torque (Nm)__permutation_entropy__dimension_4__tau_1  \\\n",
            "id030520234000                                           3.110922      \n",
            "id030520234001                                           3.103408      \n",
            "id030520234002                                           3.110583      \n",
            "id030520234003                                           3.087500      \n",
            "id030520234004                                           3.109827      \n",
            "...                                                           ...      \n",
            "id280420233082                                           3.131429      \n",
            "id280420233083                                           3.133578      \n",
            "id280420233084                                           3.114812      \n",
            "id280420233085                                           3.132747      \n",
            "id280420233086                                           3.137260      \n",
            "\n",
            "                Torque (Nm)__permutation_entropy__dimension_5__tau_1  \\\n",
            "id030520234000                                           4.615724      \n",
            "id030520234001                                           4.600450      \n",
            "id030520234002                                           4.631573      \n",
            "id030520234003                                           4.575278      \n",
            "id030520234004                                           4.619528      \n",
            "...                                                           ...      \n",
            "id280420233082                                           4.690868      \n",
            "id280420233083                                           4.684342      \n",
            "id280420233084                                           4.663358      \n",
            "id280420233085                                           4.693579      \n",
            "id280420233086                                           4.697670      \n",
            "\n",
            "                Torque (Nm)__permutation_entropy__dimension_6__tau_1  \\\n",
            "id030520234000                                           6.111534      \n",
            "id030520234001                                           6.068439      \n",
            "id030520234002                                           6.121774      \n",
            "id030520234003                                           5.973556      \n",
            "id030520234004                                           6.045241      \n",
            "...                                                           ...      \n",
            "id280420233082                                           6.262187      \n",
            "id280420233083                                           6.259316      \n",
            "id280420233084                                           6.239497      \n",
            "id280420233085                                           6.268620      \n",
            "id280420233086                                           6.257552      \n",
            "\n",
            "                Torque (Nm)__permutation_entropy__dimension_7__tau_1  \\\n",
            "id030520234000                                           7.063950      \n",
            "id030520234001                                           6.996258      \n",
            "id030520234002                                           7.094598      \n",
            "id030520234003                                           6.883979      \n",
            "id030520234004                                           6.954183      \n",
            "...                                                           ...      \n",
            "id280420233082                                           7.295241      \n",
            "id280420233083                                           7.303920      \n",
            "id280420233084                                           7.277572      \n",
            "id280420233085                                           7.286342      \n",
            "id280420233086                                           7.275042      \n",
            "\n",
            "                Torque (Nm)__query_similarity_count__query_None__threshold_0.0  \\\n",
            "id030520234000                                                NaN                \n",
            "id030520234001                                                NaN                \n",
            "id030520234002                                                NaN                \n",
            "id030520234003                                                NaN                \n",
            "id030520234004                                                NaN                \n",
            "...                                                           ...                \n",
            "id280420233082                                                NaN                \n",
            "id280420233083                                                NaN                \n",
            "id280420233084                                                NaN                \n",
            "id280420233085                                                NaN                \n",
            "id280420233086                                                NaN                \n",
            "\n",
            "                Torque (Nm)__mean_n_absolute_max__number_of_maxima_7  \n",
            "id030520234000                                           0.507767     \n",
            "id030520234001                                           0.502938     \n",
            "id030520234002                                           0.505856     \n",
            "id030520234003                                           0.511993     \n",
            "id030520234004                                           0.508069     \n",
            "...                                                           ...     \n",
            "id280420233082                                           1.090387     \n",
            "id280420233083                                           1.089884     \n",
            "id280420233084                                           1.089280     \n",
            "id280420233085                                           1.088777     \n",
            "id280420233086                                           1.099139     \n",
            "\n",
            "[1341 rows x 9324 columns]\n"
          ]
        }
      ],
      "source": [
        "print(imputed_features)"
      ]
    },
    {
      "cell_type": "code",
      "execution_count": null,
      "metadata": {
        "colab": {
          "background_save": true
        },
        "id": "iWfvz3LnO4n2"
      },
      "outputs": [],
      "source": [
        "# Drop columns which only contain NaN or infinity after imputation\n",
        "imputed_features = imputed_features.replace([np.inf, -np.inf], np.nan)\n",
        "imputed_features = imputed_features.dropna(axis=1, how=\"all\")"
      ]
    },
    {
      "cell_type": "code",
      "execution_count": null,
      "metadata": {
        "colab": {
          "background_save": true
        },
        "id": "DXLV-bBRyoX8"
      },
      "outputs": [],
      "source": [
        "imputed_features.to_csv(\"tsfresh_efficient_features.csv\")"
      ]
    },
    {
      "cell_type": "code",
      "execution_count": null,
      "metadata": {
        "colab": {
          "base_uri": "https://localhost:8080/"
        },
        "id": "o6b6N6w0qhnO",
        "outputId": "fd109b32-234c-4173-e087-a8d98986ca7e"
      },
      "outputs": [
        {
          "name": "stdout",
          "output_type": "stream",
          "text": [
            "Index(['Angle (deg)__sum_values', 'Angle (deg)__median', 'Angle (deg)__mean',\n",
            "       'Angle (deg)__length', 'Angle (deg)__standard_deviation',\n",
            "       'Angle (deg)__variance', 'Angle (deg)__root_mean_square',\n",
            "       'Angle (deg)__maximum', 'Angle (deg)__absolute_maximum',\n",
            "       'Angle (deg)__minimum',\n",
            "       ...\n",
            "       'Torque (Nm)__sum_values', 'Torque (Nm)__median', 'Torque (Nm)__mean',\n",
            "       'Torque (Nm)__length', 'Torque (Nm)__standard_deviation',\n",
            "       'Torque (Nm)__variance', 'Torque (Nm)__root_mean_square',\n",
            "       'Torque (Nm)__maximum', 'Torque (Nm)__absolute_maximum',\n",
            "       'Torque (Nm)__minimum'],\n",
            "      dtype='object', length=120)\n"
          ]
        }
      ],
      "source": [
        "print(extracted_features.columns)"
      ]
    },
    {
      "cell_type": "code",
      "execution_count": null,
      "metadata": {
        "colab": {
          "base_uri": "https://localhost:8080/"
        },
        "id": "8zkzJlvIpvSe",
        "outputId": "bacb30be-8938-49a2-fd9a-f08aa2b5f1e3"
      },
      "outputs": [
        {
          "name": "stdout",
          "output_type": "stream",
          "text": [
            "Original: N, Encoded: 0\n",
            "Original: NS, Encoded: 1\n",
            "Original: OT, Encoded: 2\n",
            "Original: P, Encoded: 3\n",
            "Original: UT, Encoded: 4\n",
            "      Angle (deg)__sum_values  Angle (deg)__median  Angle (deg)__mean  \\\n",
            "1033             2.495588e+06          1327.200000        1328.147099   \n",
            "1034             2.158879e+06          1231.866700        1232.940567   \n",
            "1035             2.345152e+06          1285.466670        1286.424502   \n",
            "1036             1.558602e+06          1041.333370        1042.543322   \n",
            "1037             1.867665e+06          1143.266665        1144.402777   \n",
            "...                       ...                  ...                ...   \n",
            "407              3.037567e+06          1465.866700        1466.715145   \n",
            "408              3.314281e+06          1532.800000        1533.679346   \n",
            "409              3.263832e+06          1520.666630        1521.600124   \n",
            "410              3.064482e+06          1472.400000        1473.308782   \n",
            "411              3.140530e+06          1490.933350        1491.938242   \n",
            "\n",
            "      Angle (deg)__length  Angle (deg)__standard_deviation  \\\n",
            "1033               1879.0                       806.106580   \n",
            "1034               1751.0                       750.958340   \n",
            "1035               1823.0                       781.981513   \n",
            "1036               1495.0                       640.597343   \n",
            "1037               1632.0                       699.645826   \n",
            "...                   ...                              ...   \n",
            "407                2071.0                       888.610447   \n",
            "408                2161.0                       927.371653   \n",
            "409                2145.0                       920.495161   \n",
            "410                2080.0                       892.464454   \n",
            "411                2105.0                       903.240507   \n",
            "\n",
            "      Angle (deg)__variance  Angle (deg)__root_mean_square  \\\n",
            "1033          649807.817522                    1553.635264   \n",
            "1034          563938.427907                    1443.634604   \n",
            "1035          611495.086996                    1505.451124   \n",
            "1036          410364.955352                    1223.626386   \n",
            "1037          489504.281834                    1341.328446   \n",
            "...                     ...                            ...   \n",
            "407           789628.526839                    1714.899952   \n",
            "408           860018.182146                    1792.258497   \n",
            "409           847311.342120                    1778.363934   \n",
            "410           796492.800963                    1722.536377   \n",
            "411           815843.413304                    1744.053649   \n",
            "\n",
            "      Angle (deg)__maximum  Angle (deg)__absolute_maximum  \\\n",
            "1033            2725.60000                     2725.60000   \n",
            "1034            2534.93335                     2534.93335   \n",
            "1035            2642.13330                     2642.13330   \n",
            "1036            2153.60000                     2153.60000   \n",
            "1037            2357.73340                     2357.73340   \n",
            "...                    ...                            ...   \n",
            "407             3006.53345                     3006.53345   \n",
            "408             3140.66675                     3140.66675   \n",
            "409             3116.66675                     3116.66675   \n",
            "410             3019.86670                     3019.86670   \n",
            "411             3057.20000                     3057.20000   \n",
            "\n",
            "      Angle (deg)__minimum  ...  Torque (Nm)__mean  Torque (Nm)__length  \\\n",
            "1033                   0.0  ...           0.163996               1879.0   \n",
            "1034                   0.0  ...           0.148871               1751.0   \n",
            "1035                   0.0  ...           0.159115               1823.0   \n",
            "1036                   0.0  ...           0.107273               1495.0   \n",
            "1037                   0.0  ...           0.144522               1632.0   \n",
            "...                    ...  ...                ...                  ...   \n",
            "407                    0.0  ...           0.206069               2071.0   \n",
            "408                    0.0  ...           0.225675               2161.0   \n",
            "409                    0.0  ...           0.207036               2145.0   \n",
            "410                    0.0  ...           0.227399               2080.0   \n",
            "411                    0.0  ...           0.225331               2105.0   \n",
            "\n",
            "      Torque (Nm)__standard_deviation  Torque (Nm)__variance  \\\n",
            "1033                         0.163431               0.026710   \n",
            "1034                         0.156416               0.024466   \n",
            "1035                         0.164537               0.027072   \n",
            "1036                         0.120705               0.014570   \n",
            "1037                         0.156371               0.024452   \n",
            "...                               ...                    ...   \n",
            "407                          0.235757               0.055581   \n",
            "408                          0.248882               0.061942   \n",
            "409                          0.210694               0.044392   \n",
            "410                          0.256875               0.065985   \n",
            "411                          0.252670               0.063842   \n",
            "\n",
            "      Torque (Nm)__root_mean_square  Torque (Nm)__maximum  \\\n",
            "1033                       0.231526              0.568333   \n",
            "1034                       0.215936              0.532416   \n",
            "1035                       0.228889              0.557065   \n",
            "1036                       0.161484              0.621152   \n",
            "1037                       0.212928              0.571854   \n",
            "...                             ...                   ...   \n",
            "407                        0.313123              1.106383   \n",
            "408                        0.335964              1.102158   \n",
            "409                        0.295391              1.118356   \n",
            "410                        0.343067              1.102862   \n",
            "411                        0.338550              1.109200   \n",
            "\n",
            "      Torque (Nm)__absolute_maximum  Torque (Nm)__minimum              id  \\\n",
            "1033                       0.568333             -0.004226  id030520234000   \n",
            "1034                       0.532416              0.004226  id030520234001   \n",
            "1035                       0.557065              0.001409  id030520234002   \n",
            "1036                       0.621152              0.000704  id030520234003   \n",
            "1037                       0.571854             -0.008451  id030520234004   \n",
            "...                             ...                   ...             ...   \n",
            "407                        1.106383             -0.002113  id280420233082   \n",
            "408                        1.102158             -0.012677  id280420233083   \n",
            "409                        1.118356             -0.003521  id280420233084   \n",
            "410                        1.102862             -0.004930  id280420233085   \n",
            "411                        1.109200              0.000000  id280420233086   \n",
            "\n",
            "      Label  \n",
            "1033      4  \n",
            "1034      4  \n",
            "1035      4  \n",
            "1036      4  \n",
            "1037      4  \n",
            "...     ...  \n",
            "407       0  \n",
            "408       0  \n",
            "409       0  \n",
            "410       0  \n",
            "411       0  \n",
            "\n",
            "[1341 rows x 122 columns]\n"
          ]
        }
      ],
      "source": [
        "from sklearn.model_selection import train_test_split\n",
        "from sklearn.ensemble import RandomForestClassifier\n",
        "from sklearn.metrics import accuracy_score\n",
        "from sklearn.preprocessing import LabelEncoder\n",
        "\n",
        "# Assume that labels are in a separate dataframe\n",
        "labels = pd.read_csv(r\"/content/Labels_names.csv\")\n",
        "labels = labels.rename(columns={'File Name': 'id'})\n",
        "\n",
        "# Create a LabelEncoder instance\n",
        "encoder = LabelEncoder()\n",
        "\n",
        "# Fit the encoder and transform the labels\n",
        "labels['Label'] = encoder.fit_transform(labels['Label'])\n",
        "\n",
        "# Print original labels and their encoded values\n",
        "for original, encoded in zip(encoder.classes_, range(len(encoder.classes_))):\n",
        "    print(f'Original: {original}, Encoded: {encoded}')\n",
        "\n",
        "# Merge features and labels\n",
        "data = extracted_features.merge(labels, left_index=True, right_on='id')\n",
        "\n",
        "print(data)"
      ]
    },
    {
      "cell_type": "code",
      "execution_count": null,
      "metadata": {
        "colab": {
          "base_uri": "https://localhost:8080/"
        },
        "id": "ElB4HlLCxdh1",
        "outputId": "15043d7f-2504-4020-a70d-74c72133af2b"
      },
      "outputs": [
        {
          "name": "stdout",
          "output_type": "stream",
          "text": [
            "Accuracy: 0.9776951672862454\n"
          ]
        }
      ],
      "source": [
        "# Split data into features and target variable\n",
        "X = data.drop(columns=['Label'])\n",
        "X = data.drop(columns=['id'])\n",
        "y = data['Label']\n",
        "\n",
        "# Split data into training and testing sets\n",
        "X_train, X_test, y_train, y_test = train_test_split(X, y, test_size=0.2, random_state=42)\n",
        "\n",
        "# Define the model\n",
        "model = RandomForestClassifier(n_estimators=100, random_state=42)\n",
        "\n",
        "# Train the model\n",
        "model.fit(X_train, y_train)\n",
        "\n",
        "# Make predictions on the test set\n",
        "y_pred = model.predict(X_test)\n",
        "\n",
        "# Evaluate the model\n",
        "print('Accuracy:', accuracy_score(y_test, y_pred))"
      ]
    },
    {
      "cell_type": "code",
      "execution_count": null,
      "metadata": {
        "colab": {
          "base_uri": "https://localhost:8080/"
        },
        "id": "u3oYwe-yx4bL",
        "outputId": "f127a198-e474-4a3d-f9ae-cf14fafea927"
      },
      "outputs": [
        {
          "name": "stdout",
          "output_type": "stream",
          "text": [
            "              precision    recall  f1-score   support\n",
            "\n",
            "           0       0.99      1.00      0.99        84\n",
            "           1       0.97      0.97      0.97        30\n",
            "           2       1.00      0.94      0.97        67\n",
            "           3       0.95      1.00      0.97        35\n",
            "           4       0.96      0.98      0.97        53\n",
            "\n",
            "    accuracy                           0.98       269\n",
            "   macro avg       0.97      0.98      0.97       269\n",
            "weighted avg       0.98      0.98      0.98       269\n",
            "\n"
          ]
        }
      ],
      "source": [
        "from sklearn.metrics import classification_report\n",
        "\n",
        "# Evaluate the model's performance\n",
        "print(classification_report(y_test, y_pred))"
      ]
    }
  ],
  "metadata": {
    "colab": {
      "provenance": []
    },
    "kernelspec": {
      "display_name": "Python 3",
      "name": "python3"
    },
    "language_info": {
      "name": "python"
    }
  },
  "nbformat": 4,
  "nbformat_minor": 0
}