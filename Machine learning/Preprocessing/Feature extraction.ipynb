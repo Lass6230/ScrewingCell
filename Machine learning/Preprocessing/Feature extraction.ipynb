{
 "cells": [
  {
   "cell_type": "code",
   "execution_count": 1,
   "id": "e8289663",
   "metadata": {},
   "outputs": [
    {
     "name": "stdout",
     "output_type": "stream",
     "text": [
      "Requirement already satisfied: tsfresh in g:\\programi\\anaconda3\\lib\\site-packages (0.20.0)\n",
      "Requirement already satisfied: pandas>=0.25.0 in g:\\programi\\anaconda3\\lib\\site-packages (from tsfresh) (1.3.4)\n",
      "Requirement already satisfied: dask[dataframe]>=2.9.0 in g:\\programi\\anaconda3\\lib\\site-packages (from tsfresh) (2021.10.0)\n",
      "Requirement already satisfied: numpy>=1.15.1 in g:\\programi\\anaconda3\\lib\\site-packages (from tsfresh) (1.24.3)\n",
      "Requirement already satisfied: statsmodels>=0.13 in g:\\programi\\anaconda3\\lib\\site-packages (from tsfresh) (0.14.0)\n",
      "Requirement already satisfied: scikit-learn>=0.22.0 in g:\\programi\\anaconda3\\lib\\site-packages (from tsfresh) (0.24.2)\n",
      "Requirement already satisfied: patsy>=0.4.1 in g:\\programi\\anaconda3\\lib\\site-packages (from tsfresh) (0.5.2)\n",
      "Requirement already satisfied: tqdm>=4.10.0 in g:\\programi\\anaconda3\\lib\\site-packages (from tsfresh) (4.62.3)\n",
      "Requirement already satisfied: requests>=2.9.1 in g:\\programi\\anaconda3\\lib\\site-packages (from tsfresh) (2.26.0)\n",
      "Requirement already satisfied: cloudpickle in g:\\programi\\anaconda3\\lib\\site-packages (from tsfresh) (2.0.0)\n",
      "Requirement already satisfied: distributed>=2.11.0 in g:\\programi\\anaconda3\\lib\\site-packages (from tsfresh) (2021.10.0)\n",
      "Requirement already satisfied: stumpy>=1.7.2 in g:\\programi\\anaconda3\\lib\\site-packages (from tsfresh) (1.11.1)\n",
      "Requirement already satisfied: scipy>=1.2.0 in g:\\programi\\anaconda3\\lib\\site-packages (from tsfresh) (1.10.1)\n",
      "Requirement already satisfied: fsspec>=0.6.0 in g:\\programi\\anaconda3\\lib\\site-packages (from dask[dataframe]>=2.9.0->tsfresh) (2021.10.1)\n",
      "Requirement already satisfied: packaging>=20.0 in g:\\programi\\anaconda3\\lib\\site-packages (from dask[dataframe]>=2.9.0->tsfresh) (23.1)\n",
      "Requirement already satisfied: partd>=0.3.10 in g:\\programi\\anaconda3\\lib\\site-packages (from dask[dataframe]>=2.9.0->tsfresh) (1.2.0)\n",
      "Requirement already satisfied: pyyaml in g:\\programi\\anaconda3\\lib\\site-packages (from dask[dataframe]>=2.9.0->tsfresh) (6.0)\n",
      "Requirement already satisfied: toolz>=0.8.2 in g:\\programi\\anaconda3\\lib\\site-packages (from dask[dataframe]>=2.9.0->tsfresh) (0.11.1)\n",
      "Requirement already satisfied: sortedcontainers!=2.0.0,!=2.0.1 in g:\\programi\\anaconda3\\lib\\site-packages (from distributed>=2.11.0->tsfresh) (2.4.0)\n",
      "Requirement already satisfied: psutil>=5.0 in g:\\programi\\anaconda3\\lib\\site-packages (from distributed>=2.11.0->tsfresh) (5.8.0)\n",
      "Requirement already satisfied: msgpack>=0.6.0 in g:\\programi\\anaconda3\\lib\\site-packages (from distributed>=2.11.0->tsfresh) (1.0.2)\n",
      "Requirement already satisfied: click>=6.6 in g:\\programi\\anaconda3\\lib\\site-packages (from distributed>=2.11.0->tsfresh) (8.0.3)\n",
      "Requirement already satisfied: jinja2 in g:\\programi\\anaconda3\\lib\\site-packages (from distributed>=2.11.0->tsfresh) (2.11.3)\n",
      "Requirement already satisfied: tornado>=6.0.3 in g:\\programi\\anaconda3\\lib\\site-packages (from distributed>=2.11.0->tsfresh) (6.1)\n",
      "Requirement already satisfied: zict>=0.1.3 in g:\\programi\\anaconda3\\lib\\site-packages (from distributed>=2.11.0->tsfresh) (2.0.0)\n",
      "Requirement already satisfied: setuptools in g:\\programi\\anaconda3\\lib\\site-packages (from distributed>=2.11.0->tsfresh) (58.0.4)\n",
      "Requirement already satisfied: tblib>=1.6.0 in g:\\programi\\anaconda3\\lib\\site-packages (from distributed>=2.11.0->tsfresh) (1.7.0)\n",
      "Requirement already satisfied: colorama in g:\\programi\\anaconda3\\lib\\site-packages (from click>=6.6->distributed>=2.11.0->tsfresh) (0.4.4)\n",
      "Requirement already satisfied: pytz>=2017.3 in g:\\programi\\anaconda3\\lib\\site-packages (from pandas>=0.25.0->tsfresh) (2021.3)\n",
      "Requirement already satisfied: python-dateutil>=2.7.3 in g:\\programi\\anaconda3\\lib\\site-packages (from pandas>=0.25.0->tsfresh) (2.8.2)\n",
      "Requirement already satisfied: locket in g:\\programi\\anaconda3\\lib\\site-packages\\locket-0.2.1-py3.9.egg (from partd>=0.3.10->dask[dataframe]>=2.9.0->tsfresh) (0.2.1)\n",
      "Requirement already satisfied: six in g:\\programi\\anaconda3\\lib\\site-packages (from patsy>=0.4.1->tsfresh) (1.16.0)\n",
      "Requirement already satisfied: urllib3<1.27,>=1.21.1 in g:\\programi\\anaconda3\\lib\\site-packages (from requests>=2.9.1->tsfresh) (1.26.7)\n",
      "Requirement already satisfied: charset-normalizer~=2.0.0 in g:\\programi\\anaconda3\\lib\\site-packages (from requests>=2.9.1->tsfresh) (2.0.4)\n",
      "Requirement already satisfied: certifi>=2017.4.17 in g:\\programi\\anaconda3\\lib\\site-packages (from requests>=2.9.1->tsfresh) (2021.10.8)\n",
      "Requirement already satisfied: idna<4,>=2.5 in g:\\programi\\anaconda3\\lib\\site-packages (from requests>=2.9.1->tsfresh) (3.2)\n",
      "Requirement already satisfied: joblib>=0.11 in g:\\programi\\anaconda3\\lib\\site-packages (from scikit-learn>=0.22.0->tsfresh) (1.1.0)\n",
      "Requirement already satisfied: threadpoolctl>=2.0.0 in g:\\programi\\anaconda3\\lib\\site-packages (from scikit-learn>=0.22.0->tsfresh) (2.2.0)\n",
      "Requirement already satisfied: numba>=0.54 in g:\\programi\\anaconda3\\lib\\site-packages (from stumpy>=1.7.2->tsfresh) (0.54.1)\n",
      "Requirement already satisfied: llvmlite<0.38,>=0.37.0rc1 in g:\\programi\\anaconda3\\lib\\site-packages (from numba>=0.54->stumpy>=1.7.2->tsfresh) (0.37.0)\n",
      "Collecting numpy>=1.15.1\n",
      "  Using cached numpy-1.20.3-cp39-cp39-win_amd64.whl (13.7 MB)\n",
      "Requirement already satisfied: heapdict in g:\\programi\\anaconda3\\lib\\site-packages (from zict>=0.1.3->distributed>=2.11.0->tsfresh) (1.0.1)\n",
      "Requirement already satisfied: MarkupSafe>=0.23 in g:\\programi\\anaconda3\\lib\\site-packages (from jinja2->distributed>=2.11.0->tsfresh) (1.1.1)\n",
      "Installing collected packages: numpy\n",
      "  Attempting uninstall: numpy\n",
      "    Found existing installation: numpy 1.24.3\n",
      "    Uninstalling numpy-1.24.3:\n",
      "      Successfully uninstalled numpy-1.24.3\n",
      "Successfully installed numpy-1.20.3\n"
     ]
    },
    {
     "name": "stderr",
     "output_type": "stream",
     "text": [
      "ERROR: pip's dependency resolver does not currently take into account all the packages that are installed. This behaviour is the source of the following dependency conflicts.\n",
      "daal4py 2021.3.0 requires daal==2021.2.3, which is not installed.\n",
      "tensorflow-intel 2.12.0 requires numpy<1.24,>=1.22, but you have numpy 1.20.3 which is incompatible.\n",
      "jax 0.4.8 requires numpy>=1.21, but you have numpy 1.20.3 which is incompatible.\n"
     ]
    }
   ],
   "source": [
    "!pip install tsfresh"
   ]
  },
  {
   "cell_type": "code",
   "execution_count": 5,
   "id": "ca6655f8",
   "metadata": {},
   "outputs": [
    {
     "name": "stdout",
     "output_type": "stream",
     "text": [
      "Requirement already satisfied: numpy in g:\\programi\\anaconda3\\lib\\site-packages (1.24.3)\n"
     ]
    }
   ],
   "source": [
    "!pip install --upgrade numpy"
   ]
  },
  {
   "cell_type": "code",
   "execution_count": 2,
   "id": "25df95a8",
   "metadata": {},
   "outputs": [],
   "source": [
    "import os\n",
    "import pandas as pd\n",
    "import numpy as np\n",
    "from tsfresh import extract_features\n",
    "from tsfresh.feature_extraction import MinimalFCParameters, extract_features"
   ]
  },
  {
   "cell_type": "code",
   "execution_count": 14,
   "id": "2bf79790",
   "metadata": {},
   "outputs": [],
   "source": [
    "# Read the DataFrame from the HDF5 file\n",
    "df = pd.read_hdf(r\"C:\\Users\\GHB\\Desktop\\SCREW PROJECT\\Machine Learning\\Test.h5\", key='test_dataframe')"
   ]
  },
  {
   "cell_type": "code",
   "execution_count": 27,
   "id": "8bc6a5ba",
   "metadata": {},
   "outputs": [],
   "source": [
    "# Read the DataFrame from the HDF5 file\n",
    "df = pd.read_hdf(r\"C:\\Users\\GHB\\Desktop\\SCREW PROJECT\\Machine Learning\\Dataset.h5\", key='dataset')"
   ]
  },
  {
   "cell_type": "code",
   "execution_count": 28,
   "id": "2b2d9f38",
   "metadata": {},
   "outputs": [
    {
     "name": "stdout",
     "output_type": "stream",
     "text": [
      "                  Source  Time (ms)          Type  Value\n",
      "0          i030520235006      0.000  Nset (1/min)  0.000\n",
      "1          i030520235068      0.000  Nset (1/min)  0.000\n",
      "2          i050520238018      0.000   Angle (deg)  0.000\n",
      "3          i030520237070      0.000   Angle (deg)  0.000\n",
      "4          i280420232085      0.000   Angle (deg)  0.000\n",
      "...                  ...        ...           ...    ...\n",
      "33375222  t1005202314051   5001.519    TCP_y (mm)  2.600\n",
      "33375223  t1005202314051   5001.519    TCP_x (mm)  0.000\n",
      "33375224  t1005202314051   5001.519  TCP_rz (rad) -1.204\n",
      "33375225  t1005202314051   5001.519    TCP_z (mm) -4.600\n",
      "33375226  t1005202314051   5001.519  TCP_rx (rad)  1.234\n",
      "\n",
      "[33375227 rows x 4 columns]\n"
     ]
    }
   ],
   "source": [
    "print(df)"
   ]
  },
  {
   "cell_type": "code",
   "execution_count": null,
   "id": "a843a399",
   "metadata": {},
   "outputs": [],
   "source": [
    "# Rename columns to meet tsfresh requirements\n",
    "df = df.rename(columns={'Source': 'id', 'Time (ms)': 'time', 'Type': 'kind', 'Value': 'value'})\n",
    "df['id'] = df['id'].str[1:]\n",
    "# Define feature extraction settings\n",
    "settings = MinimalFCParameters()  # or EfficientFCParameters()\n",
    "\n",
    "# Extract features\n",
    "extracted_features = extract_features(df, column_id=\"id\", column_kind=\"kind\", column_sort=\"time\", column_value=\"value\", default_fc_parameters=MinimalFCParameters())"
   ]
  },
  {
   "cell_type": "code",
   "execution_count": 20,
   "id": "311dc9a9",
   "metadata": {},
   "outputs": [
    {
     "name": "stdout",
     "output_type": "stream",
     "text": [
      "              TCP_ry (rad)__sum_values  TCP_ry (rad)__median  \\\n",
      "030520234000                  1014.619                 1.163   \n",
      "030520234001                   930.909                 1.168   \n",
      "030520235006                  1029.665                 1.166   \n",
      "030520235007                   874.619                 1.171   \n",
      "\n",
      "              TCP_ry (rad)__mean  TCP_ry (rad)__length  \\\n",
      "030520234000            1.163554                 872.0   \n",
      "030520234001            1.162184                 801.0   \n",
      "030520235006            1.166099                 883.0   \n",
      "030520235007            1.166159                 750.0   \n",
      "\n",
      "              TCP_ry (rad)__standard_deviation  TCP_ry (rad)__variance  \\\n",
      "030520234000                          0.008197                0.000067   \n",
      "030520234001                          0.010118                0.000102   \n",
      "030520235006                          0.006297                0.000040   \n",
      "030520235007                          0.005659                0.000032   \n",
      "\n",
      "              TCP_ry (rad)__root_mean_square  TCP_ry (rad)__maximum  \\\n",
      "030520234000                        1.163583                  1.176   \n",
      "030520234001                        1.162228                  1.176   \n",
      "030520235006                        1.166116                  1.177   \n",
      "030520235007                        1.166172                  1.175   \n",
      "\n",
      "              TCP_ry (rad)__absolute_maximum  TCP_ry (rad)__minimum  ...  \\\n",
      "030520234000                           1.176                  1.153  ...   \n",
      "030520234001                           1.176                  1.149  ...   \n",
      "030520235006                           1.177                  1.158  ...   \n",
      "030520235007                           1.175                  1.158  ...   \n",
      "\n",
      "              Depth (mm)__sum_values  Depth (mm)__median  Depth (mm)__mean  \\\n",
      "030520234000            87145.265657           63.998047         46.378534   \n",
      "030520234001            79421.462912           63.998047         45.357774   \n",
      "030520235006            89365.761766           63.998047         46.617507   \n",
      "030520235007            72175.431667           63.998047         43.848986   \n",
      "\n",
      "              Depth (mm)__length  Depth (mm)__standard_deviation  \\\n",
      "030520234000              1879.0                       27.099993   \n",
      "030520234001              1751.0                       27.514046   \n",
      "030520235006              1917.0                       27.019687   \n",
      "030520235007              1646.0                       28.104537   \n",
      "\n",
      "              Depth (mm)__variance  Depth (mm)__root_mean_square  \\\n",
      "030520234000            734.409624                     53.715715   \n",
      "030520234001            757.022702                     53.050451   \n",
      "030520235006            730.063476                     53.881866   \n",
      "030520235007            789.864974                     52.082613   \n",
      "\n",
      "              Depth (mm)__maximum  Depth (mm)__absolute_maximum  \\\n",
      "030520234000            63.998047                     63.998047   \n",
      "030520234001            63.998047                     63.998047   \n",
      "030520235006            63.998047                     63.998047   \n",
      "030520235007            63.998047                     63.998047   \n",
      "\n",
      "              Depth (mm)__minimum  \n",
      "030520234000             0.109375  \n",
      "030520234001             0.113281  \n",
      "030520235006             0.109375  \n",
      "030520235007             0.109375  \n",
      "\n",
      "[4 rows x 120 columns]\n"
     ]
    }
   ],
   "source": [
    "print(extracted_features)"
   ]
  },
  {
   "cell_type": "code",
   "execution_count": 23,
   "id": "b72e34f6",
   "metadata": {},
   "outputs": [
    {
     "name": "stdout",
     "output_type": "stream",
     "text": [
      "Original: N, Encoded: 0\n",
      "Original: NS, Encoded: 1\n",
      "Original: OT, Encoded: 2\n",
      "Original: P, Encoded: 3\n",
      "Original: UT, Encoded: 4\n"
     ]
    },
    {
     "ename": "ValueError",
     "evalue": "You are trying to merge on object and int64 columns. If you wish to proceed you should use pd.concat",
     "output_type": "error",
     "traceback": [
      "\u001b[1;31m---------------------------------------------------------------------------\u001b[0m",
      "\u001b[1;31mValueError\u001b[0m                                Traceback (most recent call last)",
      "\u001b[1;32m~\\AppData\\Local\\Temp/ipykernel_3832/585954433.py\u001b[0m in \u001b[0;36m<module>\u001b[1;34m\u001b[0m\n\u001b[0;32m     19\u001b[0m \u001b[1;33m\u001b[0m\u001b[0m\n\u001b[0;32m     20\u001b[0m \u001b[1;31m# Merge features and labels\u001b[0m\u001b[1;33m\u001b[0m\u001b[1;33m\u001b[0m\u001b[0m\n\u001b[1;32m---> 21\u001b[1;33m \u001b[0mdata\u001b[0m \u001b[1;33m=\u001b[0m \u001b[0mextracted_features\u001b[0m\u001b[1;33m.\u001b[0m\u001b[0mmerge\u001b[0m\u001b[1;33m(\u001b[0m\u001b[0mlabels\u001b[0m\u001b[1;33m,\u001b[0m \u001b[0mleft_index\u001b[0m\u001b[1;33m=\u001b[0m\u001b[1;32mTrue\u001b[0m\u001b[1;33m,\u001b[0m \u001b[0mright_on\u001b[0m\u001b[1;33m=\u001b[0m\u001b[1;34m'id'\u001b[0m\u001b[1;33m)\u001b[0m\u001b[1;33m\u001b[0m\u001b[1;33m\u001b[0m\u001b[0m\n\u001b[0m\u001b[0;32m     22\u001b[0m \u001b[1;33m\u001b[0m\u001b[0m\n\u001b[0;32m     23\u001b[0m \u001b[0mprint\u001b[0m\u001b[1;33m(\u001b[0m\u001b[0mdata\u001b[0m\u001b[1;33m)\u001b[0m\u001b[1;33m\u001b[0m\u001b[1;33m\u001b[0m\u001b[0m\n",
      "\u001b[1;32mG:\\PROGRAMI\\Anaconda3\\lib\\site-packages\\pandas\\core\\frame.py\u001b[0m in \u001b[0;36mmerge\u001b[1;34m(self, right, how, on, left_on, right_on, left_index, right_index, sort, suffixes, copy, indicator, validate)\u001b[0m\n\u001b[0;32m   9188\u001b[0m         \u001b[1;32mfrom\u001b[0m \u001b[0mpandas\u001b[0m\u001b[1;33m.\u001b[0m\u001b[0mcore\u001b[0m\u001b[1;33m.\u001b[0m\u001b[0mreshape\u001b[0m\u001b[1;33m.\u001b[0m\u001b[0mmerge\u001b[0m \u001b[1;32mimport\u001b[0m \u001b[0mmerge\u001b[0m\u001b[1;33m\u001b[0m\u001b[1;33m\u001b[0m\u001b[0m\n\u001b[0;32m   9189\u001b[0m \u001b[1;33m\u001b[0m\u001b[0m\n\u001b[1;32m-> 9190\u001b[1;33m         return merge(\n\u001b[0m\u001b[0;32m   9191\u001b[0m             \u001b[0mself\u001b[0m\u001b[1;33m,\u001b[0m\u001b[1;33m\u001b[0m\u001b[1;33m\u001b[0m\u001b[0m\n\u001b[0;32m   9192\u001b[0m             \u001b[0mright\u001b[0m\u001b[1;33m,\u001b[0m\u001b[1;33m\u001b[0m\u001b[1;33m\u001b[0m\u001b[0m\n",
      "\u001b[1;32mG:\\PROGRAMI\\Anaconda3\\lib\\site-packages\\pandas\\core\\reshape\\merge.py\u001b[0m in \u001b[0;36mmerge\u001b[1;34m(left, right, how, on, left_on, right_on, left_index, right_index, sort, suffixes, copy, indicator, validate)\u001b[0m\n\u001b[0;32m    104\u001b[0m     \u001b[0mvalidate\u001b[0m\u001b[1;33m:\u001b[0m \u001b[0mstr\u001b[0m \u001b[1;33m|\u001b[0m \u001b[1;32mNone\u001b[0m \u001b[1;33m=\u001b[0m \u001b[1;32mNone\u001b[0m\u001b[1;33m,\u001b[0m\u001b[1;33m\u001b[0m\u001b[1;33m\u001b[0m\u001b[0m\n\u001b[0;32m    105\u001b[0m ) -> DataFrame:\n\u001b[1;32m--> 106\u001b[1;33m     op = _MergeOperation(\n\u001b[0m\u001b[0;32m    107\u001b[0m         \u001b[0mleft\u001b[0m\u001b[1;33m,\u001b[0m\u001b[1;33m\u001b[0m\u001b[1;33m\u001b[0m\u001b[0m\n\u001b[0;32m    108\u001b[0m         \u001b[0mright\u001b[0m\u001b[1;33m,\u001b[0m\u001b[1;33m\u001b[0m\u001b[1;33m\u001b[0m\u001b[0m\n",
      "\u001b[1;32mG:\\PROGRAMI\\Anaconda3\\lib\\site-packages\\pandas\\core\\reshape\\merge.py\u001b[0m in \u001b[0;36m__init__\u001b[1;34m(self, left, right, how, on, left_on, right_on, axis, left_index, right_index, sort, suffixes, copy, indicator, validate)\u001b[0m\n\u001b[0;32m    701\u001b[0m         \u001b[1;31m# validate the merge keys dtypes. We may need to coerce\u001b[0m\u001b[1;33m\u001b[0m\u001b[1;33m\u001b[0m\u001b[0m\n\u001b[0;32m    702\u001b[0m         \u001b[1;31m# to avoid incompatible dtypes\u001b[0m\u001b[1;33m\u001b[0m\u001b[1;33m\u001b[0m\u001b[0m\n\u001b[1;32m--> 703\u001b[1;33m         \u001b[0mself\u001b[0m\u001b[1;33m.\u001b[0m\u001b[0m_maybe_coerce_merge_keys\u001b[0m\u001b[1;33m(\u001b[0m\u001b[1;33m)\u001b[0m\u001b[1;33m\u001b[0m\u001b[1;33m\u001b[0m\u001b[0m\n\u001b[0m\u001b[0;32m    704\u001b[0m \u001b[1;33m\u001b[0m\u001b[0m\n\u001b[0;32m    705\u001b[0m         \u001b[1;31m# If argument passed to validate,\u001b[0m\u001b[1;33m\u001b[0m\u001b[1;33m\u001b[0m\u001b[0m\n",
      "\u001b[1;32mG:\\PROGRAMI\\Anaconda3\\lib\\site-packages\\pandas\\core\\reshape\\merge.py\u001b[0m in \u001b[0;36m_maybe_coerce_merge_keys\u001b[1;34m(self)\u001b[0m\n\u001b[0;32m   1254\u001b[0m                     \u001b[0minferred_right\u001b[0m \u001b[1;32min\u001b[0m \u001b[0mstring_types\u001b[0m \u001b[1;32mand\u001b[0m \u001b[0minferred_left\u001b[0m \u001b[1;32mnot\u001b[0m \u001b[1;32min\u001b[0m \u001b[0mstring_types\u001b[0m\u001b[1;33m\u001b[0m\u001b[1;33m\u001b[0m\u001b[0m\n\u001b[0;32m   1255\u001b[0m                 ):\n\u001b[1;32m-> 1256\u001b[1;33m                     \u001b[1;32mraise\u001b[0m \u001b[0mValueError\u001b[0m\u001b[1;33m(\u001b[0m\u001b[0mmsg\u001b[0m\u001b[1;33m)\u001b[0m\u001b[1;33m\u001b[0m\u001b[1;33m\u001b[0m\u001b[0m\n\u001b[0m\u001b[0;32m   1257\u001b[0m \u001b[1;33m\u001b[0m\u001b[0m\n\u001b[0;32m   1258\u001b[0m             \u001b[1;31m# datetimelikes must match exactly\u001b[0m\u001b[1;33m\u001b[0m\u001b[1;33m\u001b[0m\u001b[0m\n",
      "\u001b[1;31mValueError\u001b[0m: You are trying to merge on object and int64 columns. If you wish to proceed you should use pd.concat"
     ]
    }
   ],
   "source": [
    "from sklearn.model_selection import train_test_split\n",
    "from sklearn.ensemble import RandomForestClassifier\n",
    "from sklearn.metrics import accuracy_score\n",
    "from sklearn.preprocessing import LabelEncoder\n",
    "\n",
    "# Assume that labels are in a separate dataframe\n",
    "labels = pd.read_csv(r\"C:\\Users\\GHB\\Desktop\\SCREW PROJECT\\Machine Learning\\Data\\Labels_names.csv\")\n",
    "labels = labels.rename(columns={'File Name': 'id'})\n",
    "\n",
    "# Create a LabelEncoder instance\n",
    "encoder = LabelEncoder()\n",
    "\n",
    "# Fit the encoder and transform the labels\n",
    "labels['Label'] = encoder.fit_transform(labels['Label'])\n",
    "\n",
    "# Print original labels and their encoded values\n",
    "for original, encoded in zip(encoder.classes_, range(len(encoder.classes_))):\n",
    "    print(f'Original: {original}, Encoded: {encoded}')\n",
    "\n",
    "# Merge features and labels\n",
    "data = extracted_features.merge(labels, left_index=True, right_on='id')\n",
    "\n",
    "print(data)\n",
    "\n",
    "\n"
   ]
  },
  {
   "cell_type": "code",
   "execution_count": 11,
   "id": "8ae5e814",
   "metadata": {},
   "outputs": [
    {
     "ename": "ValueError",
     "evalue": "Input contains NaN, infinity or a value too large for dtype('float32').",
     "output_type": "error",
     "traceback": [
      "\u001b[1;31m---------------------------------------------------------------------------\u001b[0m",
      "\u001b[1;31mValueError\u001b[0m                                Traceback (most recent call last)",
      "\u001b[1;32m~\\AppData\\Local\\Temp/ipykernel_3832/3054848055.py\u001b[0m in \u001b[0;36m<module>\u001b[1;34m\u001b[0m\n\u001b[0;32m     11\u001b[0m \u001b[1;33m\u001b[0m\u001b[0m\n\u001b[0;32m     12\u001b[0m \u001b[1;31m# Train the model\u001b[0m\u001b[1;33m\u001b[0m\u001b[1;33m\u001b[0m\u001b[0m\n\u001b[1;32m---> 13\u001b[1;33m \u001b[0mmodel\u001b[0m\u001b[1;33m.\u001b[0m\u001b[0mfit\u001b[0m\u001b[1;33m(\u001b[0m\u001b[0mX_train\u001b[0m\u001b[1;33m,\u001b[0m \u001b[0my_train\u001b[0m\u001b[1;33m)\u001b[0m\u001b[1;33m\u001b[0m\u001b[1;33m\u001b[0m\u001b[0m\n\u001b[0m\u001b[0;32m     14\u001b[0m \u001b[1;33m\u001b[0m\u001b[0m\n\u001b[0;32m     15\u001b[0m \u001b[1;31m# Make predictions on the test set\u001b[0m\u001b[1;33m\u001b[0m\u001b[1;33m\u001b[0m\u001b[0m\n",
      "\u001b[1;32mG:\\PROGRAMI\\Anaconda3\\lib\\site-packages\\sklearn\\ensemble\\_forest.py\u001b[0m in \u001b[0;36mfit\u001b[1;34m(self, X, y, sample_weight)\u001b[0m\n\u001b[0;32m    302\u001b[0m                 \u001b[1;34m\"sparse multilabel-indicator for y is not supported.\"\u001b[0m\u001b[1;33m\u001b[0m\u001b[1;33m\u001b[0m\u001b[0m\n\u001b[0;32m    303\u001b[0m             )\n\u001b[1;32m--> 304\u001b[1;33m         X, y = self._validate_data(X, y, multi_output=True,\n\u001b[0m\u001b[0;32m    305\u001b[0m                                    accept_sparse=\"csc\", dtype=DTYPE)\n\u001b[0;32m    306\u001b[0m         \u001b[1;32mif\u001b[0m \u001b[0msample_weight\u001b[0m \u001b[1;32mis\u001b[0m \u001b[1;32mnot\u001b[0m \u001b[1;32mNone\u001b[0m\u001b[1;33m:\u001b[0m\u001b[1;33m\u001b[0m\u001b[1;33m\u001b[0m\u001b[0m\n",
      "\u001b[1;32mG:\\PROGRAMI\\Anaconda3\\lib\\site-packages\\sklearn\\base.py\u001b[0m in \u001b[0;36m_validate_data\u001b[1;34m(self, X, y, reset, validate_separately, **check_params)\u001b[0m\n\u001b[0;32m    431\u001b[0m                 \u001b[0my\u001b[0m \u001b[1;33m=\u001b[0m \u001b[0mcheck_array\u001b[0m\u001b[1;33m(\u001b[0m\u001b[0my\u001b[0m\u001b[1;33m,\u001b[0m \u001b[1;33m**\u001b[0m\u001b[0mcheck_y_params\u001b[0m\u001b[1;33m)\u001b[0m\u001b[1;33m\u001b[0m\u001b[1;33m\u001b[0m\u001b[0m\n\u001b[0;32m    432\u001b[0m             \u001b[1;32melse\u001b[0m\u001b[1;33m:\u001b[0m\u001b[1;33m\u001b[0m\u001b[1;33m\u001b[0m\u001b[0m\n\u001b[1;32m--> 433\u001b[1;33m                 \u001b[0mX\u001b[0m\u001b[1;33m,\u001b[0m \u001b[0my\u001b[0m \u001b[1;33m=\u001b[0m \u001b[0mcheck_X_y\u001b[0m\u001b[1;33m(\u001b[0m\u001b[0mX\u001b[0m\u001b[1;33m,\u001b[0m \u001b[0my\u001b[0m\u001b[1;33m,\u001b[0m \u001b[1;33m**\u001b[0m\u001b[0mcheck_params\u001b[0m\u001b[1;33m)\u001b[0m\u001b[1;33m\u001b[0m\u001b[1;33m\u001b[0m\u001b[0m\n\u001b[0m\u001b[0;32m    434\u001b[0m             \u001b[0mout\u001b[0m \u001b[1;33m=\u001b[0m \u001b[0mX\u001b[0m\u001b[1;33m,\u001b[0m \u001b[0my\u001b[0m\u001b[1;33m\u001b[0m\u001b[1;33m\u001b[0m\u001b[0m\n\u001b[0;32m    435\u001b[0m \u001b[1;33m\u001b[0m\u001b[0m\n",
      "\u001b[1;32mG:\\PROGRAMI\\Anaconda3\\lib\\site-packages\\sklearn\\utils\\validation.py\u001b[0m in \u001b[0;36minner_f\u001b[1;34m(*args, **kwargs)\u001b[0m\n\u001b[0;32m     61\u001b[0m             \u001b[0mextra_args\u001b[0m \u001b[1;33m=\u001b[0m \u001b[0mlen\u001b[0m\u001b[1;33m(\u001b[0m\u001b[0margs\u001b[0m\u001b[1;33m)\u001b[0m \u001b[1;33m-\u001b[0m \u001b[0mlen\u001b[0m\u001b[1;33m(\u001b[0m\u001b[0mall_args\u001b[0m\u001b[1;33m)\u001b[0m\u001b[1;33m\u001b[0m\u001b[1;33m\u001b[0m\u001b[0m\n\u001b[0;32m     62\u001b[0m             \u001b[1;32mif\u001b[0m \u001b[0mextra_args\u001b[0m \u001b[1;33m<=\u001b[0m \u001b[1;36m0\u001b[0m\u001b[1;33m:\u001b[0m\u001b[1;33m\u001b[0m\u001b[1;33m\u001b[0m\u001b[0m\n\u001b[1;32m---> 63\u001b[1;33m                 \u001b[1;32mreturn\u001b[0m \u001b[0mf\u001b[0m\u001b[1;33m(\u001b[0m\u001b[1;33m*\u001b[0m\u001b[0margs\u001b[0m\u001b[1;33m,\u001b[0m \u001b[1;33m**\u001b[0m\u001b[0mkwargs\u001b[0m\u001b[1;33m)\u001b[0m\u001b[1;33m\u001b[0m\u001b[1;33m\u001b[0m\u001b[0m\n\u001b[0m\u001b[0;32m     64\u001b[0m \u001b[1;33m\u001b[0m\u001b[0m\n\u001b[0;32m     65\u001b[0m             \u001b[1;31m# extra_args > 0\u001b[0m\u001b[1;33m\u001b[0m\u001b[1;33m\u001b[0m\u001b[0m\n",
      "\u001b[1;32mG:\\PROGRAMI\\Anaconda3\\lib\\site-packages\\sklearn\\utils\\validation.py\u001b[0m in \u001b[0;36mcheck_X_y\u001b[1;34m(X, y, accept_sparse, accept_large_sparse, dtype, order, copy, force_all_finite, ensure_2d, allow_nd, multi_output, ensure_min_samples, ensure_min_features, y_numeric, estimator)\u001b[0m\n\u001b[0;32m    869\u001b[0m         \u001b[1;32mraise\u001b[0m \u001b[0mValueError\u001b[0m\u001b[1;33m(\u001b[0m\u001b[1;34m\"y cannot be None\"\u001b[0m\u001b[1;33m)\u001b[0m\u001b[1;33m\u001b[0m\u001b[1;33m\u001b[0m\u001b[0m\n\u001b[0;32m    870\u001b[0m \u001b[1;33m\u001b[0m\u001b[0m\n\u001b[1;32m--> 871\u001b[1;33m     X = check_array(X, accept_sparse=accept_sparse,\n\u001b[0m\u001b[0;32m    872\u001b[0m                     \u001b[0maccept_large_sparse\u001b[0m\u001b[1;33m=\u001b[0m\u001b[0maccept_large_sparse\u001b[0m\u001b[1;33m,\u001b[0m\u001b[1;33m\u001b[0m\u001b[1;33m\u001b[0m\u001b[0m\n\u001b[0;32m    873\u001b[0m                     \u001b[0mdtype\u001b[0m\u001b[1;33m=\u001b[0m\u001b[0mdtype\u001b[0m\u001b[1;33m,\u001b[0m \u001b[0morder\u001b[0m\u001b[1;33m=\u001b[0m\u001b[0morder\u001b[0m\u001b[1;33m,\u001b[0m \u001b[0mcopy\u001b[0m\u001b[1;33m=\u001b[0m\u001b[0mcopy\u001b[0m\u001b[1;33m,\u001b[0m\u001b[1;33m\u001b[0m\u001b[1;33m\u001b[0m\u001b[0m\n",
      "\u001b[1;32mG:\\PROGRAMI\\Anaconda3\\lib\\site-packages\\sklearn\\utils\\validation.py\u001b[0m in \u001b[0;36minner_f\u001b[1;34m(*args, **kwargs)\u001b[0m\n\u001b[0;32m     61\u001b[0m             \u001b[0mextra_args\u001b[0m \u001b[1;33m=\u001b[0m \u001b[0mlen\u001b[0m\u001b[1;33m(\u001b[0m\u001b[0margs\u001b[0m\u001b[1;33m)\u001b[0m \u001b[1;33m-\u001b[0m \u001b[0mlen\u001b[0m\u001b[1;33m(\u001b[0m\u001b[0mall_args\u001b[0m\u001b[1;33m)\u001b[0m\u001b[1;33m\u001b[0m\u001b[1;33m\u001b[0m\u001b[0m\n\u001b[0;32m     62\u001b[0m             \u001b[1;32mif\u001b[0m \u001b[0mextra_args\u001b[0m \u001b[1;33m<=\u001b[0m \u001b[1;36m0\u001b[0m\u001b[1;33m:\u001b[0m\u001b[1;33m\u001b[0m\u001b[1;33m\u001b[0m\u001b[0m\n\u001b[1;32m---> 63\u001b[1;33m                 \u001b[1;32mreturn\u001b[0m \u001b[0mf\u001b[0m\u001b[1;33m(\u001b[0m\u001b[1;33m*\u001b[0m\u001b[0margs\u001b[0m\u001b[1;33m,\u001b[0m \u001b[1;33m**\u001b[0m\u001b[0mkwargs\u001b[0m\u001b[1;33m)\u001b[0m\u001b[1;33m\u001b[0m\u001b[1;33m\u001b[0m\u001b[0m\n\u001b[0m\u001b[0;32m     64\u001b[0m \u001b[1;33m\u001b[0m\u001b[0m\n\u001b[0;32m     65\u001b[0m             \u001b[1;31m# extra_args > 0\u001b[0m\u001b[1;33m\u001b[0m\u001b[1;33m\u001b[0m\u001b[0m\n",
      "\u001b[1;32mG:\\PROGRAMI\\Anaconda3\\lib\\site-packages\\sklearn\\utils\\validation.py\u001b[0m in \u001b[0;36mcheck_array\u001b[1;34m(array, accept_sparse, accept_large_sparse, dtype, order, copy, force_all_finite, ensure_2d, allow_nd, ensure_min_samples, ensure_min_features, estimator)\u001b[0m\n\u001b[0;32m    718\u001b[0m \u001b[1;33m\u001b[0m\u001b[0m\n\u001b[0;32m    719\u001b[0m         \u001b[1;32mif\u001b[0m \u001b[0mforce_all_finite\u001b[0m\u001b[1;33m:\u001b[0m\u001b[1;33m\u001b[0m\u001b[1;33m\u001b[0m\u001b[0m\n\u001b[1;32m--> 720\u001b[1;33m             _assert_all_finite(array,\n\u001b[0m\u001b[0;32m    721\u001b[0m                                allow_nan=force_all_finite == 'allow-nan')\n\u001b[0;32m    722\u001b[0m \u001b[1;33m\u001b[0m\u001b[0m\n",
      "\u001b[1;32mG:\\PROGRAMI\\Anaconda3\\lib\\site-packages\\sklearn\\utils\\validation.py\u001b[0m in \u001b[0;36m_assert_all_finite\u001b[1;34m(X, allow_nan, msg_dtype)\u001b[0m\n\u001b[0;32m    101\u001b[0m                 not allow_nan and not np.isfinite(X).all()):\n\u001b[0;32m    102\u001b[0m             \u001b[0mtype_err\u001b[0m \u001b[1;33m=\u001b[0m \u001b[1;34m'infinity'\u001b[0m \u001b[1;32mif\u001b[0m \u001b[0mallow_nan\u001b[0m \u001b[1;32melse\u001b[0m \u001b[1;34m'NaN, infinity'\u001b[0m\u001b[1;33m\u001b[0m\u001b[1;33m\u001b[0m\u001b[0m\n\u001b[1;32m--> 103\u001b[1;33m             raise ValueError(\n\u001b[0m\u001b[0;32m    104\u001b[0m                     \u001b[0mmsg_err\u001b[0m\u001b[1;33m.\u001b[0m\u001b[0mformat\u001b[0m\u001b[1;33m\u001b[0m\u001b[1;33m\u001b[0m\u001b[0m\n\u001b[0;32m    105\u001b[0m                     (type_err,\n",
      "\u001b[1;31mValueError\u001b[0m: Input contains NaN, infinity or a value too large for dtype('float32')."
     ]
    }
   ],
   "source": [
    "# Split data into features and target variable\n",
    "X = data.drop(columns=['Label'])\n",
    "X = data.drop(columns=['id'])\n",
    "y = data['Label']\n",
    "\n",
    "# Split data into training and testing sets\n",
    "X_train, X_test, y_train, y_test = train_test_split(X, y, test_size=0.2, random_state=42)\n",
    "\n",
    "# Define the model\n",
    "model = RandomForestClassifier(n_estimators=100, random_state=42)\n",
    "\n",
    "# Train the model\n",
    "model.fit(X_train, y_train)\n",
    "\n",
    "# Make predictions on the test set\n",
    "y_pred = model.predict(X_test)\n",
    "\n",
    "# Evaluate the model\n",
    "print('Accuracy:', accuracy_score(y_test, y_pred))"
   ]
  },
  {
   "cell_type": "code",
   "execution_count": null,
   "id": "deed4db5",
   "metadata": {},
   "outputs": [],
   "source": []
  }
 ],
 "metadata": {
  "kernelspec": {
   "display_name": "Python 3 (ipykernel)",
   "language": "python",
   "name": "python3"
  },
  "language_info": {
   "codemirror_mode": {
    "name": "ipython",
    "version": 3
   },
   "file_extension": ".py",
   "mimetype": "text/x-python",
   "name": "python",
   "nbconvert_exporter": "python",
   "pygments_lexer": "ipython3",
   "version": "3.9.7"
  }
 },
 "nbformat": 4,
 "nbformat_minor": 5
}
