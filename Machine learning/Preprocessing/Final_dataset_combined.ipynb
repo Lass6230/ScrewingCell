{
 "cells": [
  {
   "cell_type": "code",
   "execution_count": 30,
   "id": "56552fdc",
   "metadata": {},
   "outputs": [
    {
     "name": "stdout",
     "output_type": "stream",
     "text": [
      "                  Source  Time (ms)          Type  Value\n",
      "0          i030520235006      0.000  Nset (1/min)  0.000\n",
      "1          i030520235068      0.000  Nset (1/min)  0.000\n",
      "2          i050520238018      0.000   Angle (deg)  0.000\n",
      "3          i030520237070      0.000   Angle (deg)  0.000\n",
      "4          i280420232085      0.000   Angle (deg)  0.000\n",
      "...                  ...        ...           ...    ...\n",
      "33375222  t1005202314051   5001.519    TCP_y (mm)  2.600\n",
      "33375223  t1005202314051   5001.519    TCP_x (mm)  0.000\n",
      "33375224  t1005202314051   5001.519  TCP_rz (rad) -1.204\n",
      "33375225  t1005202314051   5001.519    TCP_z (mm) -4.600\n",
      "33375226  t1005202314051   5001.519  TCP_rx (rad)  1.234\n",
      "\n",
      "[33375227 rows x 4 columns]\n"
     ]
    }
   ],
   "source": [
    "import os\n",
    "import pandas as pd\n",
    "\n",
    "# Iterate through all folders, subfolders, and files\n",
    "\n",
    "# Define the folder name\n",
    "folder_path = r\"C:\\Users\\GHB\\Desktop\\SCREW PROJECT\\Machine Learning\\Final data\"\n",
    "dataframes_i = []\n",
    "\n",
    "\n",
    "for root, dirs, files in os.walk(folder_path):\n",
    "    for file in files:\n",
    "        # Check if the file is a CSV file\n",
    "        if file.endswith('.csv'):\n",
    "            # Load the CSV file into a DataFrame\n",
    "            file_path = os.path.join(root, file)\n",
    "            df = pd.read_csv(file_path)\n",
    "            \n",
    "            df[\"Source\"] = os.path.splitext(file)[0]\n",
    "            df_melted = pd.melt(df, id_vars=['Source', 'Time (ms)'], var_name='Type', value_name='Value')\n",
    "            \n",
    "            # Append the melted dataframe to the list of dataframes\n",
    "            dataframes_i.append(df_melted)\n",
    "\n",
    "# Concatenate all dataframes\n",
    "merged_df = pd.concat(dataframes_i, ignore_index=True)\n",
    "\n",
    "# Sort the merged dataframe by 'Time (ms)'\n",
    "merged_df.sort_values(by='Time (ms)', inplace=True)\n",
    "merged_df.reset_index(drop=True, inplace=True)\n",
    "\n",
    "print(merged_df)\n",
    "\n",
    "#merged_df.to_csv(r\"C:\\Users\\GHB\\Desktop\\SCREW PROJECT\\Machine Learning\\Test.csv\")\n",
    "\n",
    "# Save the DataFrame to an HDF5 file\n",
    "merged_df.to_hdf(r\"C:\\Users\\GHB\\Desktop\\SCREW PROJECT\\Machine Learning\\Dataset.h5\", key='dataset', mode='w')"
   ]
  },
  {
   "cell_type": "code",
   "execution_count": 28,
   "id": "a1f26195",
   "metadata": {},
   "outputs": [],
   "source": [
    "# Save the DataFrame to an HDF5 file\n",
    "merged_df.to_hdf(r\"C:\\Users\\GHB\\Desktop\\SCREW PROJECT\\Machine Learning\\Test.h5\", key='test_dataframe', mode='w')"
   ]
  },
  {
   "cell_type": "code",
   "execution_count": 29,
   "id": "797f9658",
   "metadata": {},
   "outputs": [
    {
     "name": "stdout",
     "output_type": "stream",
     "text": [
      "              Source  Time (ms)          Type     Value\n",
      "0      i030520235006      0.000  Nset (1/min)  0.000000\n",
      "1      i030520235006      0.000   Angle (deg)  0.000000\n",
      "2      i030520235006      0.000    Depth (mm)  0.119141\n",
      "3      i030520235007      0.000  Nset (1/min)  0.000000\n",
      "4      i030520234001      0.000    Depth (mm)  0.121094\n",
      "...              ...        ...           ...       ...\n",
      "59102  t030520235006   2098.991  TCP_rx (rad)  1.221000\n",
      "59103  t030520235006   2098.991    TCP_z (mm)  1.500000\n",
      "59104  t030520235006   2098.991  TCP_rz (rad) -1.209000\n",
      "59105  t030520235006   2098.991    TCP_y (mm)  1.000000\n",
      "59106  t030520235006   2098.991  TCP_ry (rad)  1.162000\n",
      "\n",
      "[59107 rows x 4 columns]\n"
     ]
    }
   ],
   "source": [
    "# Read the DataFrame from the HDF5 file\n",
    "df = pd.read_hdf(r\"C:\\Users\\GHB\\Desktop\\SCREW PROJECT\\Machine Learning\\Test.h5\", key='test_dataframe')\n",
    "\n",
    "print(df)"
   ]
  },
  {
   "cell_type": "code",
   "execution_count": null,
   "id": "ab88b625",
   "metadata": {},
   "outputs": [],
   "source": []
  }
 ],
 "metadata": {
  "kernelspec": {
   "display_name": "Python 3 (ipykernel)",
   "language": "python",
   "name": "python3"
  },
  "language_info": {
   "codemirror_mode": {
    "name": "ipython",
    "version": 3
   },
   "file_extension": ".py",
   "mimetype": "text/x-python",
   "name": "python",
   "nbconvert_exporter": "python",
   "pygments_lexer": "ipython3",
   "version": "3.9.7"
  }
 },
 "nbformat": 4,
 "nbformat_minor": 5
}
