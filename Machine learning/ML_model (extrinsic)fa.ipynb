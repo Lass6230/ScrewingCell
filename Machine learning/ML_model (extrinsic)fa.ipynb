{
 "cells": [
  {
   "cell_type": "markdown",
   "id": "61e52309",
   "metadata": {},
   "source": [
    "SVM_algorithm"
   ]
  },
  {
   "cell_type": "code",
   "execution_count": 2,
   "id": "eb1326a1",
   "metadata": {},
   "outputs": [],
   "source": [
    "import pandas as pd\n",
    "from sklearn.model_selection import train_test_split\n",
    "from sklearn.svm import SVC\n",
    "from sklearn.metrics import classification_report"
   ]
  },
  {
   "cell_type": "code",
   "execution_count": 3,
   "id": "1f248652",
   "metadata": {},
   "outputs": [
    {
     "name": "stdout",
     "output_type": "stream",
     "text": [
      "      chroma_stft  spec_contrast   tonnetz  spectral_bandwidth  \\\n",
      "0        0.596061      19.243907 -0.005266         2270.956832   \n",
      "1        0.588911      19.226535 -0.001497         2244.542692   \n",
      "2        0.585607      19.282355  0.002229         2241.299579   \n",
      "3        0.580079      19.551298 -0.003312         2271.355258   \n",
      "4        0.556908      19.318105 -0.003524         2256.037220   \n",
      "...           ...            ...       ...                 ...   \n",
      "1336     0.576255      19.313264  0.003173         2235.033398   \n",
      "1337     0.601177      19.525289  0.002367         2257.486869   \n",
      "1338     0.598703      19.372625  0.008883         2268.815816   \n",
      "1339     0.472966      19.340586  0.014210         2266.436939   \n",
      "1340     0.582771      19.322454 -0.004962         2280.097732   \n",
      "\n",
      "      zero_crossing_rate  spectral_rolloff     mfcc_1     mfcc_2     mfcc_3  \\\n",
      "0               0.180804       5585.430908 -364.57450  73.085330 -49.253464   \n",
      "1               0.166341       5516.836548 -369.84122  77.422264 -48.497776   \n",
      "2               0.184867       5437.466777 -366.54230  71.783290 -43.663475   \n",
      "3               0.194819       5631.868843 -369.07422  70.214590 -50.393963   \n",
      "4               0.183673       5611.271867 -370.49194  72.533090 -50.100952   \n",
      "...                  ...               ...        ...        ...        ...   \n",
      "1336            0.182593       5368.809518 -359.36496  81.242680 -46.721960   \n",
      "1337            0.183206       5480.668308 -358.66534  77.369340 -47.468803   \n",
      "1338            0.169683       5352.756401 -355.14157  89.695564 -39.359620   \n",
      "1339            0.190576       5549.787722 -359.63034  77.037710 -44.150210   \n",
      "1340            0.186141       5587.633420 -359.88620  78.800575 -46.327755   \n",
      "\n",
      "         mfcc_4  ...    mfcc_32   mfcc_33   mfcc_34   mfcc_35   mfcc_36  \\\n",
      "0     29.274887  ...   8.313635 -5.321656  5.688863  2.636749 -0.007261   \n",
      "1     28.361113  ...   8.374786 -2.802589  5.074844  3.036380 -0.433906   \n",
      "2     27.353281  ...   6.881778 -1.423176  1.337971  4.715841 -2.909443   \n",
      "3     29.860140  ...   9.406317 -3.094324  4.391953  2.057418  0.195816   \n",
      "4     27.852476  ...   9.268720 -3.960890  5.574724  2.615816 -0.407287   \n",
      "...         ...  ...        ...       ...       ...       ...       ...   \n",
      "1336  30.847311  ...   4.642770 -7.669148  3.572411  0.568756 -0.362085   \n",
      "1337  32.902805  ...   5.030702 -9.998105  5.642989 -0.696157  1.496582   \n",
      "1338  31.203709  ...   8.637523 -5.570647  3.087660  1.762853  0.787188   \n",
      "1339  30.870872  ...  14.519311 -1.524966  6.475428  0.047266  4.982268   \n",
      "1340  31.450697  ...  10.233903 -7.609722  5.179046  2.992605  0.429949   \n",
      "\n",
      "       mfcc_37   mfcc_38   mfcc_39   mfcc_40              id  \n",
      "0     1.346813  6.586853  0.256162  5.180595  id030520235006  \n",
      "1     0.127297  4.820103  0.100323  4.519959  id030520235007  \n",
      "2     6.125939 -0.195765  3.406587  0.996858  id030520236000  \n",
      "3     3.667513  2.188496  1.651257  3.264199  id030520236002  \n",
      "4     2.121860  4.127667  0.214503  4.517547  id030520236003  \n",
      "...        ...       ...       ...       ...             ...  \n",
      "1336  2.007410  2.373516 -0.743059  5.275344  id280420232069  \n",
      "1337 -5.143201  4.727397 -3.143819  3.928177  id280420232080  \n",
      "1338 -0.998387  6.117153 -0.123188  4.839760  id280420233013  \n",
      "1339 -0.788518  3.005564  0.855711  4.063168  id280420233045  \n",
      "1340  2.500935  4.663921 -2.093643  5.756881  id280420233069  \n",
      "\n",
      "[1341 rows x 47 columns]\n"
     ]
    }
   ],
   "source": [
    "feature_df = pd.read_csv(r\"C:\\Users\\GHB\\Desktop\\SCREW PROJECT\\Machine Learning\\Features\\audio_features_clean.csv\")\n",
    "print(feature_df)"
   ]
  },
  {
   "cell_type": "code",
   "execution_count": 4,
   "id": "4a1a4fba",
   "metadata": {},
   "outputs": [
    {
     "name": "stdout",
     "output_type": "stream",
     "text": [
      "Original: N, Encoded: 0\n",
      "Original: NS, Encoded: 1\n",
      "Original: OT, Encoded: 2\n",
      "Original: P, Encoded: 3\n",
      "Original: UT, Encoded: 4\n",
      "      chroma_stft  spec_contrast   tonnetz  spectral_bandwidth  \\\n",
      "0        0.596061      19.243907 -0.005266         2270.956832   \n",
      "1        0.588911      19.226535 -0.001497         2244.542692   \n",
      "2        0.585607      19.282355  0.002229         2241.299579   \n",
      "3        0.580079      19.551298 -0.003312         2271.355258   \n",
      "4        0.556908      19.318105 -0.003524         2256.037220   \n",
      "...           ...            ...       ...                 ...   \n",
      "1336     0.576255      19.313264  0.003173         2235.033398   \n",
      "1337     0.601177      19.525289  0.002367         2257.486869   \n",
      "1338     0.598703      19.372625  0.008883         2268.815816   \n",
      "1339     0.472966      19.340586  0.014210         2266.436939   \n",
      "1340     0.582771      19.322454 -0.004962         2280.097732   \n",
      "\n",
      "      zero_crossing_rate  spectral_rolloff     mfcc_1     mfcc_2     mfcc_3  \\\n",
      "0               0.180804       5585.430908 -364.57450  73.085330 -49.253464   \n",
      "1               0.166341       5516.836548 -369.84122  77.422264 -48.497776   \n",
      "2               0.184867       5437.466777 -366.54230  71.783290 -43.663475   \n",
      "3               0.194819       5631.868843 -369.07422  70.214590 -50.393963   \n",
      "4               0.183673       5611.271867 -370.49194  72.533090 -50.100952   \n",
      "...                  ...               ...        ...        ...        ...   \n",
      "1336            0.182593       5368.809518 -359.36496  81.242680 -46.721960   \n",
      "1337            0.183206       5480.668308 -358.66534  77.369340 -47.468803   \n",
      "1338            0.169683       5352.756401 -355.14157  89.695564 -39.359620   \n",
      "1339            0.190576       5549.787722 -359.63034  77.037710 -44.150210   \n",
      "1340            0.186141       5587.633420 -359.88620  78.800575 -46.327755   \n",
      "\n",
      "         mfcc_4  ...   mfcc_33   mfcc_34   mfcc_35   mfcc_36   mfcc_37  \\\n",
      "0     29.274887  ... -5.321656  5.688863  2.636749 -0.007261  1.346813   \n",
      "1     28.361113  ... -2.802589  5.074844  3.036380 -0.433906  0.127297   \n",
      "2     27.353281  ... -1.423176  1.337971  4.715841 -2.909443  6.125939   \n",
      "3     29.860140  ... -3.094324  4.391953  2.057418  0.195816  3.667513   \n",
      "4     27.852476  ... -3.960890  5.574724  2.615816 -0.407287  2.121860   \n",
      "...         ...  ...       ...       ...       ...       ...       ...   \n",
      "1336  30.847311  ... -7.669148  3.572411  0.568756 -0.362085  2.007410   \n",
      "1337  32.902805  ... -9.998105  5.642989 -0.696157  1.496582 -5.143201   \n",
      "1338  31.203709  ... -5.570647  3.087660  1.762853  0.787188 -0.998387   \n",
      "1339  30.870872  ... -1.524966  6.475428  0.047266  4.982268 -0.788518   \n",
      "1340  31.450697  ... -7.609722  5.179046  2.992605  0.429949  2.500935   \n",
      "\n",
      "       mfcc_38   mfcc_39   mfcc_40              id  Label  \n",
      "0     6.586853  0.256162  5.180595  id030520235006      0  \n",
      "1     4.820103  0.100323  4.519959  id030520235007      0  \n",
      "2    -0.195765  3.406587  0.996858  id030520236000      0  \n",
      "3     2.188496  1.651257  3.264199  id030520236002      0  \n",
      "4     4.127667  0.214503  4.517547  id030520236003      0  \n",
      "...        ...       ...       ...             ...    ...  \n",
      "1336  2.373516 -0.743059  5.275344  id280420232069      4  \n",
      "1337  4.727397 -3.143819  3.928177  id280420232080      4  \n",
      "1338  6.117153 -0.123188  4.839760  id280420233013      4  \n",
      "1339  3.005564  0.855711  4.063168  id280420233045      4  \n",
      "1340  4.663921 -2.093643  5.756881  id280420233069      4  \n",
      "\n",
      "[1341 rows x 48 columns]\n"
     ]
    }
   ],
   "source": [
    "from sklearn.model_selection import train_test_split\n",
    "from sklearn.ensemble import RandomForestClassifier\n",
    "from sklearn.metrics import accuracy_score\n",
    "from sklearn.preprocessing import LabelEncoder\n",
    "\n",
    "# Assume that labels are in a separate dataframe\n",
    "labels = pd.read_csv(r\"C:\\Users\\GHB\\Desktop\\SCREW PROJECT\\Machine Learning\\Data\\Labels_names.csv\")\n",
    "labels = labels.rename(columns={'File Name': 'id'})\n",
    "\n",
    "# Create a LabelEncoder instance\n",
    "encoder = LabelEncoder()\n",
    "\n",
    "# Fit the encoder and transform the labels\n",
    "labels['Label'] = encoder.fit_transform(labels['Label'])\n",
    "\n",
    "# Print original labels and their encoded values\n",
    "for original, encoded in zip(encoder.classes_, range(len(encoder.classes_))):\n",
    "    print(f'Original: {original}, Encoded: {encoded}')\n",
    "\n",
    "# Merge features and labels\n",
    "data = pd.merge(feature_df, labels, on='id')\n",
    "\n",
    "print(data)"
   ]
  },
  {
   "cell_type": "code",
   "execution_count": 5,
   "id": "4b8134bd",
   "metadata": {},
   "outputs": [],
   "source": [
    "# Drop filename column (we don't need it for the model)\n",
    "data = data.drop(columns='id')\n",
    "\n",
    "# Separate features and labels\n",
    "X = data.drop(columns='Label')\n",
    "y = data['Label']"
   ]
  },
  {
   "cell_type": "code",
   "execution_count": 6,
   "id": "8d67ef96",
   "metadata": {},
   "outputs": [],
   "source": [
    "# Split data into training and test sets\n",
    "X_train, X_test, y_train, y_test = train_test_split(X, y, test_size=0.3, stratify = y)"
   ]
  },
  {
   "cell_type": "code",
   "execution_count": 7,
   "id": "5575e9fe",
   "metadata": {},
   "outputs": [
    {
     "name": "stdout",
     "output_type": "stream",
     "text": [
      "              precision    recall  f1-score   support\n",
      "\n",
      "           0       0.33      1.00      0.50       124\n",
      "           1       0.81      0.44      0.57        48\n",
      "           2       0.00      0.00      0.00        93\n",
      "           3       0.00      0.00      0.00        46\n",
      "           4       0.00      0.00      0.00        92\n",
      "\n",
      "    accuracy                           0.36       403\n",
      "   macro avg       0.23      0.29      0.21       403\n",
      "weighted avg       0.20      0.36      0.22       403\n",
      "\n"
     ]
    },
    {
     "name": "stderr",
     "output_type": "stream",
     "text": [
      "G:\\PROGRAMI\\Anaconda3\\lib\\site-packages\\sklearn\\metrics\\_classification.py:1248: UndefinedMetricWarning: Precision and F-score are ill-defined and being set to 0.0 in labels with no predicted samples. Use `zero_division` parameter to control this behavior.\n",
      "  _warn_prf(average, modifier, msg_start, len(result))\n",
      "G:\\PROGRAMI\\Anaconda3\\lib\\site-packages\\sklearn\\metrics\\_classification.py:1248: UndefinedMetricWarning: Precision and F-score are ill-defined and being set to 0.0 in labels with no predicted samples. Use `zero_division` parameter to control this behavior.\n",
      "  _warn_prf(average, modifier, msg_start, len(result))\n",
      "G:\\PROGRAMI\\Anaconda3\\lib\\site-packages\\sklearn\\metrics\\_classification.py:1248: UndefinedMetricWarning: Precision and F-score are ill-defined and being set to 0.0 in labels with no predicted samples. Use `zero_division` parameter to control this behavior.\n",
      "  _warn_prf(average, modifier, msg_start, len(result))\n"
     ]
    }
   ],
   "source": [
    "# Create a SVM model with a radial basis function (RBF) kernel\n",
    "svm_model = SVC(kernel='rbf')\n",
    "\n",
    "# Fit the model on the training data\n",
    "svm_model.fit(X_train, y_train)\n",
    "\n",
    "# Make predictions on the test data\n",
    "y_pred = svm_model.predict(X_test)\n",
    "\n",
    "# Evaluate the model's performance\n",
    "print(classification_report(y_test, y_pred))"
   ]
  },
  {
   "cell_type": "markdown",
   "id": "c19d96db",
   "metadata": {},
   "source": [
    "KNN algorithm"
   ]
  },
  {
   "cell_type": "code",
   "execution_count": 8,
   "id": "1f5735b6",
   "metadata": {},
   "outputs": [],
   "source": [
    "from sklearn.neighbors import KNeighborsClassifier\n",
    "from sklearn.model_selection import train_test_split\n",
    "from sklearn.metrics import classification_report"
   ]
  },
  {
   "cell_type": "code",
   "execution_count": 9,
   "id": "ed2f2176",
   "metadata": {},
   "outputs": [
    {
     "name": "stdout",
     "output_type": "stream",
     "text": [
      "              precision    recall  f1-score   support\n",
      "\n",
      "           0       0.49      0.68      0.57       124\n",
      "           1       0.63      0.54      0.58        48\n",
      "           2       0.53      0.45      0.49        93\n",
      "           3       0.62      0.33      0.43        46\n",
      "           4       0.76      0.71      0.73        92\n",
      "\n",
      "    accuracy                           0.58       403\n",
      "   macro avg       0.61      0.54      0.56       403\n",
      "weighted avg       0.59      0.58      0.57       403\n",
      "\n"
     ]
    },
    {
     "name": "stderr",
     "output_type": "stream",
     "text": [
      "G:\\PROGRAMI\\Anaconda3\\lib\\site-packages\\sklearn\\neighbors\\_classification.py:211: FutureWarning: Unlike other reduction functions (e.g. `skew`, `kurtosis`), the default behavior of `mode` typically preserves the axis it acts along. In SciPy 1.11.0, this behavior will change: the default value of `keepdims` will become False, the `axis` over which the statistic is taken will be eliminated, and the value None will no longer be accepted. Set `keepdims` to True or False to avoid this warning.\n",
      "  mode, _ = stats.mode(_y[neigh_ind, k], axis=1)\n"
     ]
    }
   ],
   "source": [
    "# Creating the KNN classifier with k=3\n",
    "knn = KNeighborsClassifier(n_neighbors=3)\n",
    "\n",
    "# Training the KNN classifier on the training data\n",
    "knn.fit(X_train, y_train)\n",
    "\n",
    "# Making predictions on the testing data\n",
    "y_pred = knn.predict(X_test)\n",
    "\n",
    "# Evaluating the KNN classifier's performance\n",
    "print(classification_report(y_test, y_pred))"
   ]
  },
  {
   "cell_type": "code",
   "execution_count": 10,
   "id": "1e1eff33",
   "metadata": {},
   "outputs": [
    {
     "name": "stdout",
     "output_type": "stream",
     "text": [
      "Accuracy: 0.826302729528536\n",
      "              precision    recall  f1-score   support\n",
      "\n",
      "           0       0.76      0.94      0.84       124\n",
      "           1       0.89      0.83      0.86        48\n",
      "           2       0.82      0.77      0.80        93\n",
      "           3       1.00      0.50      0.67        46\n",
      "           4       0.86      0.89      0.88        92\n",
      "\n",
      "    accuracy                           0.83       403\n",
      "   macro avg       0.87      0.79      0.81       403\n",
      "weighted avg       0.84      0.83      0.82       403\n",
      "\n"
     ]
    }
   ],
   "source": [
    "# Define the model\n",
    "from sklearn.ensemble import RandomForestClassifier\n",
    "model = RandomForestClassifier(n_estimators=100, random_state=42)\n",
    "\n",
    "# Train the model\n",
    "model.fit(X_train, y_train)\n",
    "\n",
    "# Make predictions on the test set\n",
    "y_pred = model.predict(X_test)\n",
    "\n",
    "# Evaluate the model\n",
    "print('Accuracy:', accuracy_score(y_test, y_pred))\n",
    "from sklearn.metrics import classification_report\n",
    "\n",
    "# Evaluate the model's performance\n",
    "print(classification_report(y_test, y_pred))"
   ]
  },
  {
   "cell_type": "code",
   "execution_count": null,
   "id": "d33390ab",
   "metadata": {},
   "outputs": [],
   "source": []
  }
 ],
 "metadata": {
  "kernelspec": {
   "display_name": "Python 3 (ipykernel)",
   "language": "python",
   "name": "python3"
  },
  "language_info": {
   "codemirror_mode": {
    "name": "ipython",
    "version": 3
   },
   "file_extension": ".py",
   "mimetype": "text/x-python",
   "name": "python",
   "nbconvert_exporter": "python",
   "pygments_lexer": "ipython3",
   "version": "3.9.7"
  }
 },
 "nbformat": 4,
 "nbformat_minor": 5
}
